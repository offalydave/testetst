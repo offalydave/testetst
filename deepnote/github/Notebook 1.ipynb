{
  "cells": [
    {
      "cell_type": "code",
      "metadata": {
        "cell_id": "5abe015495484212901e7d24534253c2",
        "deepnote_cell_type": "code"
      },
      "source": "",
      "block_group": "5abe015495484212901e7d24534253c2",
      "execution_count": null,
      "outputs": [],
      "outputs_reference": null,
      "content_dependencies": null
    },
    {
      "cell_type": "code",
      "metadata": {
        "source_hash": null,
        "execution_start": 1713428915503,
        "execution_millis": 1650,
        "sql_integration_id": "deepnote-dataframe-sql",
        "deepnote_variable_name": "df_1",
        "deepnote_to_be_reexecuted": false,
        "cell_id": "c00ffb8c51c043e7879326ed1756a837",
        "deepnote_cell_type": "sql",
        "deepnote_sql_source": "SELECT *\nFROM 'inbox_self.csv'"
      },
      "source": "df_1 = _dntk.execute_sql(\n  'SELECT *\\nFROM \\'inbox_self.csv\\'',\n  'SQL_DEEPNOTE_DATAFRAME_SQL',\n  audit_sql_comment='',\n  sql_cache_mode='cache_disabled'\n)\ndf_1",
      "block_group": "ee9c7cfdcad54b078dd7299fa1162c46",
      "execution_count": null,
      "outputs": [
        {
          "output_type": "execute_result",
          "execution_count": 1,
          "data": {
            "application/vnd.deepnote.dataframe.v3+json": {
              "column_count": 53,
              "row_count": 1892,
              "columns": [
                {
                  "name": "Conversation ID",
                  "dtype": "int64",
                  "stats": {
                    "unique_count": 1892,
                    "nan_count": 0,
                    "min": "22979",
                    "max": "33854",
                    "histogram": [
                      {
                        "bin_start": 22979,
                        "bin_end": 24066.5,
                        "count": 2
                      },
                      {
                        "bin_start": 24066.5,
                        "bin_end": 25154,
                        "count": 0
                      },
                      {
                        "bin_start": 25154,
                        "bin_end": 26241.5,
                        "count": 0
                      },
                      {
                        "bin_start": 26241.5,
                        "bin_end": 27329,
                        "count": 0
                      },
                      {
                        "bin_start": 27329,
                        "bin_end": 28416.5,
                        "count": 559
                      },
                      {
                        "bin_start": 28416.5,
                        "bin_end": 29504,
                        "count": 416
                      },
                      {
                        "bin_start": 29504,
                        "bin_end": 30591.5,
                        "count": 434
                      },
                      {
                        "bin_start": 30591.5,
                        "bin_end": 31679,
                        "count": 20
                      },
                      {
                        "bin_start": 31679,
                        "bin_end": 32766.5,
                        "count": 7
                      },
                      {
                        "bin_start": 32766.5,
                        "bin_end": 33854,
                        "count": 454
                      }
                    ]
                  }
                },
                {
                  "name": "Conversation URL",
                  "dtype": "object",
                  "stats": {
                    "unique_count": 1892,
                    "nan_count": 0,
                    "categories": [
                      {
                        "name": "https://app.intercom.com/a/apps/ijd0po3e/inbox/inbox/conversation/28365",
                        "count": 1
                      },
                      {
                        "name": "https://app.intercom.com/a/apps/ijd0po3e/inbox/inbox/conversation/28428",
                        "count": 1
                      },
                      {
                        "name": "1890 others",
                        "count": 1890
                      }
                    ]
                  }
                },
                {
                  "name": "Title",
                  "dtype": "object",
                  "stats": {
                    "unique_count": 397,
                    "nan_count": 1438,
                    "categories": [
                      {
                        "name": "Education Plan",
                        "count": 11
                      },
                      {
                        "name": "396 others",
                        "count": 443
                      },
                      {
                        "name": "Missing",
                        "count": 1438
                      }
                    ]
                  }
                },
                {
                  "name": "Conversation status",
                  "dtype": "object",
                  "stats": {
                    "unique_count": 2,
                    "nan_count": 0,
                    "categories": [
                      {
                        "name": "Closed",
                        "count": 1880
                      },
                      {
                        "name": "Open",
                        "count": 12
                      }
                    ]
                  }
                },
                {
                  "name": "Conversation tags",
                  "dtype": "object",
                  "stats": {
                    "unique_count": 34,
                    "nan_count": 1097,
                    "categories": [
                      {
                        "name": "education",
                        "count": 304
                      },
                      {
                        "name": "33 others",
                        "count": 491
                      },
                      {
                        "name": "Missing",
                        "count": 1097
                      }
                    ]
                  }
                },
                {
                  "name": "Created at",
                  "dtype": "datetime64[us]",
                  "stats": {
                    "unique_count": 1887,
                    "nan_count": 0,
                    "min": "2023-10-01 01:53:46",
                    "max": "2024-04-10 09:19:18",
                    "histogram": [
                      {
                        "bin_start": 1696125226000000,
                        "bin_end": 1697786779200000,
                        "count": 203
                      },
                      {
                        "bin_start": 1697786779200000,
                        "bin_end": 1699448332400000,
                        "count": 167
                      },
                      {
                        "bin_start": 1699448332400000,
                        "bin_end": 1701109885600000,
                        "count": 211
                      },
                      {
                        "bin_start": 1701109885600000,
                        "bin_end": 1702771438800000,
                        "count": 198
                      },
                      {
                        "bin_start": 1702771438800000,
                        "bin_end": 1704432992000000,
                        "count": 127
                      },
                      {
                        "bin_start": 1704432992000000,
                        "bin_end": 1706094545200000,
                        "count": 172
                      },
                      {
                        "bin_start": 1706094545200000,
                        "bin_end": 1707756098400000,
                        "count": 203
                      },
                      {
                        "bin_start": 1707756098400000,
                        "bin_end": 1709417651600000,
                        "count": 268
                      },
                      {
                        "bin_start": 1709417651600000,
                        "bin_end": 1711079204800000,
                        "count": 182
                      },
                      {
                        "bin_start": 1711079204800000,
                        "bin_end": 1712740758000000,
                        "count": 161
                      }
                    ]
                  }
                },
                {
                  "name": "Last updated at",
                  "dtype": "datetime64[us]",
                  "stats": {
                    "unique_count": 1889,
                    "nan_count": 0,
                    "min": "2023-10-02 14:19:43",
                    "max": "2024-04-10 10:36:01",
                    "histogram": [
                      {
                        "bin_start": 1696256383000000,
                        "bin_end": 1697905280800000,
                        "count": 194
                      },
                      {
                        "bin_start": 1697905280800000,
                        "bin_end": 1699554178600000,
                        "count": 165
                      },
                      {
                        "bin_start": 1699554178600000,
                        "bin_end": 1701203076400000,
                        "count": 197
                      },
                      {
                        "bin_start": 1701203076400000,
                        "bin_end": 1702851974200000,
                        "count": 188
                      },
                      {
                        "bin_start": 1702851974200000,
                        "bin_end": 1704500872000000,
                        "count": 121
                      },
                      {
                        "bin_start": 1704500872000000,
                        "bin_end": 1706149769800000,
                        "count": 177
                      },
                      {
                        "bin_start": 1706149769800000,
                        "bin_end": 1707798667600000,
                        "count": 213
                      },
                      {
                        "bin_start": 1707798667600000,
                        "bin_end": 1709447565400000,
                        "count": 257
                      },
                      {
                        "bin_start": 1709447565400000,
                        "bin_end": 1711096463200000,
                        "count": 196
                      },
                      {
                        "bin_start": 1711096463200000,
                        "bin_end": 1712745361000000,
                        "count": 184
                      }
                    ]
                  }
                },
                {
                  "name": "Last closed at",
                  "dtype": "datetime64[us]",
                  "stats": {
                    "unique_count": 1883,
                    "nan_count": 9,
                    "min": "2023-10-02 09:08:54",
                    "max": "2024-04-09 18:44:46",
                    "histogram": [
                      {
                        "bin_start": 1696237734000000,
                        "bin_end": 1697882789200000,
                        "count": 204
                      },
                      {
                        "bin_start": 1697882789200000,
                        "bin_end": 1699527844400000,
                        "count": 166
                      },
                      {
                        "bin_start": 1699527844400000,
                        "bin_end": 1701172899600000,
                        "count": 202
                      },
                      {
                        "bin_start": 1701172899600000,
                        "bin_end": 1702817954800000,
                        "count": 186
                      },
                      {
                        "bin_start": 1702817954800000,
                        "bin_end": 1704463010000000,
                        "count": 126
                      },
                      {
                        "bin_start": 1704463010000000,
                        "bin_end": 1706108065200000,
                        "count": 175
                      },
                      {
                        "bin_start": 1706108065200000,
                        "bin_end": 1707753120400000,
                        "count": 206
                      },
                      {
                        "bin_start": 1707753120400000,
                        "bin_end": 1709398175600000,
                        "count": 262
                      },
                      {
                        "bin_start": 1709398175600000,
                        "bin_end": 1711043230800000,
                        "count": 189
                      },
                      {
                        "bin_start": 1711043230800000,
                        "bin_end": 1712688286000000,
                        "count": 167
                      }
                    ]
                  }
                },
                {
                  "name": "Time Zone",
                  "dtype": "object",
                  "stats": {
                    "unique_count": 1,
                    "nan_count": 0,
                    "categories": [
                      {
                        "name": "Dublin",
                        "count": 1892
                      }
                    ]
                  }
                },
                {
                  "name": "Inbound/Outbound",
                  "dtype": "object",
                  "stats": {
                    "unique_count": 2,
                    "nan_count": 0,
                    "categories": [
                      {
                        "name": "Inbound",
                        "count": 1640
                      },
                      {
                        "name": "Outbound",
                        "count": 252
                      }
                    ]
                  }
                },
                {
                  "name": "Reopened",
                  "dtype": "int64",
                  "stats": {
                    "unique_count": 5,
                    "nan_count": 0,
                    "min": "0",
                    "max": "4",
                    "histogram": [
                      {
                        "bin_start": 0,
                        "bin_end": 0.4,
                        "count": 1631
                      },
                      {
                        "bin_start": 0.4,
                        "bin_end": 0.8,
                        "count": 0
                      },
                      {
                        "bin_start": 0.8,
                        "bin_end": 1.2000000000000002,
                        "count": 222
                      },
                      {
                        "bin_start": 1.2000000000000002,
                        "bin_end": 1.6,
                        "count": 0
                      },
                      {
                        "bin_start": 1.6,
                        "bin_end": 2,
                        "count": 0
                      },
                      {
                        "bin_start": 2,
                        "bin_end": 2.4000000000000004,
                        "count": 30
                      },
                      {
                        "bin_start": 2.4000000000000004,
                        "bin_end": 2.8000000000000003,
                        "count": 0
                      },
                      {
                        "bin_start": 2.8000000000000003,
                        "bin_end": 3.2,
                        "count": 7
                      },
                      {
                        "bin_start": 3.2,
                        "bin_end": 3.6,
                        "count": 0
                      },
                      {
                        "bin_start": 3.6,
                        "bin_end": 4,
                        "count": 2
                      }
                    ]
                  }
                },
                {
                  "name": "Closed",
                  "dtype": "int64",
                  "stats": {
                    "unique_count": 6,
                    "nan_count": 0,
                    "min": "0",
                    "max": "5",
                    "histogram": [
                      {
                        "bin_start": 0,
                        "bin_end": 0.5,
                        "count": 9
                      },
                      {
                        "bin_start": 0.5,
                        "bin_end": 1,
                        "count": 0
                      },
                      {
                        "bin_start": 1,
                        "bin_end": 1.5,
                        "count": 1624
                      },
                      {
                        "bin_start": 1.5,
                        "bin_end": 2,
                        "count": 0
                      },
                      {
                        "bin_start": 2,
                        "bin_end": 2.5,
                        "count": 220
                      },
                      {
                        "bin_start": 2.5,
                        "bin_end": 3,
                        "count": 0
                      },
                      {
                        "bin_start": 3,
                        "bin_end": 3.5,
                        "count": 30
                      },
                      {
                        "bin_start": 3.5,
                        "bin_end": 4,
                        "count": 0
                      },
                      {
                        "bin_start": 4,
                        "bin_end": 4.5,
                        "count": 7
                      },
                      {
                        "bin_start": 4.5,
                        "bin_end": 5,
                        "count": 2
                      }
                    ]
                  }
                },
                {
                  "name": "Conversation rating",
                  "dtype": "float64",
                  "stats": {
                    "unique_count": 5,
                    "nan_count": 1594,
                    "min": "1.0",
                    "max": "5.0",
                    "histogram": [
                      {
                        "bin_start": 1,
                        "bin_end": 1.4,
                        "count": 7
                      },
                      {
                        "bin_start": 1.4,
                        "bin_end": 1.8,
                        "count": 0
                      },
                      {
                        "bin_start": 1.8,
                        "bin_end": 2.2,
                        "count": 4
                      },
                      {
                        "bin_start": 2.2,
                        "bin_end": 2.6,
                        "count": 0
                      },
                      {
                        "bin_start": 2.6,
                        "bin_end": 3,
                        "count": 0
                      },
                      {
                        "bin_start": 3,
                        "bin_end": 3.4000000000000004,
                        "count": 8
                      },
                      {
                        "bin_start": 3.4000000000000004,
                        "bin_end": 3.8000000000000003,
                        "count": 0
                      },
                      {
                        "bin_start": 3.8000000000000003,
                        "bin_end": 4.2,
                        "count": 61
                      },
                      {
                        "bin_start": 4.2,
                        "bin_end": 4.6,
                        "count": 0
                      },
                      {
                        "bin_start": 4.6,
                        "bin_end": 5,
                        "count": 218
                      }
                    ]
                  }
                },
                {
                  "name": "Conversation rating requested",
                  "dtype": "object",
                  "stats": {
                    "unique_count": 2,
                    "nan_count": 0,
                    "categories": [
                      {
                        "name": "yes",
                        "count": 1068
                      },
                      {
                        "name": "no",
                        "count": 824
                      }
                    ]
                  }
                },
                {
                  "name": "Rating updated at",
                  "dtype": "datetime64[us]",
                  "stats": {
                    "unique_count": 1068,
                    "nan_count": 824,
                    "min": "2023-10-02 09:09:06",
                    "max": "2024-04-09 18:45:21",
                    "histogram": [
                      {
                        "bin_start": 1696237746000000,
                        "bin_end": 1697882803500000,
                        "count": 136
                      },
                      {
                        "bin_start": 1697882803500000,
                        "bin_end": 1699527861000000,
                        "count": 110
                      },
                      {
                        "bin_start": 1699527861000000,
                        "bin_end": 1701172918500000,
                        "count": 128
                      },
                      {
                        "bin_start": 1701172918500000,
                        "bin_end": 1702817976000000,
                        "count": 102
                      },
                      {
                        "bin_start": 1702817976000000,
                        "bin_end": 1704463033500000,
                        "count": 70
                      },
                      {
                        "bin_start": 1704463033500000,
                        "bin_end": 1706108091000000,
                        "count": 104
                      },
                      {
                        "bin_start": 1706108091000000,
                        "bin_end": 1707753148500000,
                        "count": 99
                      },
                      {
                        "bin_start": 1707753148500000,
                        "bin_end": 1709398206000000,
                        "count": 142
                      },
                      {
                        "bin_start": 1709398206000000,
                        "bin_end": 1711043263500000,
                        "count": 92
                      },
                      {
                        "bin_start": 1711043263500000,
                        "bin_end": 1712688321000000,
                        "count": 85
                      }
                    ]
                  }
                },
                {
                  "name": "Conversation rating remark",
                  "dtype": "object",
                  "stats": {
                    "unique_count": 93,
                    "nan_count": 1795,
                    "categories": [
                      {
                        "name": "best as always",
                        "count": 3
                      },
                      {
                        "name": "92 others",
                        "count": 94
                      },
                      {
                        "name": "Missing",
                        "count": 1795
                      }
                    ]
                  }
                },
                {
                  "name": "Conversation topics",
                  "dtype": "object",
                  "stats": {
                    "unique_count": 0,
                    "nan_count": 1892,
                    "categories": [
                      {
                        "name": "Missing",
                        "count": 1892
                      }
                    ]
                  }
                },
                {
                  "name": "Companies (ID)",
                  "dtype": "object",
                  "stats": {
                    "unique_count": 1186,
                    "nan_count": 310,
                    "categories": [
                      {
                        "name": "8b0ebf6d-5672-4a8b-a488-2dd220383dd3, 9ab38552-1777-4892-a8e7-f9c191ccb8b7",
                        "count": 19
                      },
                      {
                        "name": "1185 others",
                        "count": 1563
                      },
                      {
                        "name": "Missing",
                        "count": 310
                      }
                    ]
                  }
                },
                {
                  "name": "Companies (name)",
                  "dtype": "object",
                  "stats": {
                    "unique_count": 1130,
                    "nan_count": 313,
                    "categories": [
                      {
                        "name": "Workspace",
                        "count": 22
                      },
                      {
                        "name": "1129 others",
                        "count": 1557
                      },
                      {
                        "name": "Missing",
                        "count": 313
                      }
                    ]
                  }
                },
                {
                  "name": "Company tags",
                  "dtype": "object",
                  "stats": {
                    "unique_count": 0,
                    "nan_count": 1892,
                    "categories": [
                      {
                        "name": "Missing",
                        "count": 1892
                      }
                    ]
                  }
                },
                {
                  "name": "Email",
                  "dtype": "object",
                  "stats": {
                    "unique_count": 1378,
                    "nan_count": 26,
                    "categories": [
                      {
                        "name": "scrambled",
                        "count": 53
                      },
                      {
                        "name": "1377 others",
                        "count": 1813
                      },
                      {
                        "name": "Missing",
                        "count": 26
                      }
                    ]
                  }
                },
                {
                  "name": "Location",
                  "dtype": "object",
                  "stats": {
                    "unique_count": 721,
                    "nan_count": 234,
                    "categories": [
                      {
                        "name": "New York, United States",
                        "count": 30
                      },
                      {
                        "name": "720 others",
                        "count": 1628
                      },
                      {
                        "name": "Missing",
                        "count": 234
                      }
                    ]
                  }
                },
                {
                  "name": "Name",
                  "dtype": "object",
                  "stats": {
                    "unique_count": 1314,
                    "nan_count": 128,
                    "categories": [
                      {
                        "name": "Chanan Zevin",
                        "count": 19
                      },
                      {
                        "name": "1313 others",
                        "count": 1745
                      },
                      {
                        "name": "Missing",
                        "count": 128
                      }
                    ]
                  }
                },
                {
                  "name": "Type",
                  "dtype": "object",
                  "stats": {
                    "unique_count": 2,
                    "nan_count": 0,
                    "categories": [
                      {
                        "name": "User",
                        "count": 1654
                      },
                      {
                        "name": "Lead",
                        "count": 238
                      }
                    ]
                  }
                },
                {
                  "name": "Participated (ID)",
                  "dtype": "object",
                  "stats": {
                    "unique_count": 1418,
                    "nan_count": 53,
                    "categories": [
                      {
                        "name": "a6c64692-6b56-46ca-a272-428dc09d29c6",
                        "count": 15
                      },
                      {
                        "name": "1417 others",
                        "count": 1824
                      },
                      {
                        "name": "Missing",
                        "count": 53
                      }
                    ]
                  }
                },
                {
                  "name": "Participated (name)",
                  "dtype": "object",
                  "stats": {
                    "unique_count": 1328,
                    "nan_count": 127,
                    "categories": [
                      {
                        "name": "EUROLEADER",
                        "count": 15
                      },
                      {
                        "name": "1327 others",
                        "count": 1750
                      },
                      {
                        "name": "Missing",
                        "count": 127
                      }
                    ]
                  }
                },
                {
                  "name": "Participated (email)",
                  "dtype": "object",
                  "stats": {
                    "unique_count": 1389,
                    "nan_count": 26,
                    "categories": [
                      {
                        "name": "scrambled",
                        "count": 53
                      },
                      {
                        "name": "1388 others",
                        "count": 1813
                      },
                      {
                        "name": "Missing",
                        "count": 26
                      }
                    ]
                  }
                },
                {
                  "name": "People tags",
                  "dtype": "object",
                  "stats": {
                    "unique_count": 1,
                    "nan_count": 1891,
                    "categories": [
                      {
                        "name": "Premier Customer",
                        "count": 1
                      },
                      {
                        "name": "Missing",
                        "count": 1891
                      }
                    ]
                  }
                },
                {
                  "name": "User ID",
                  "dtype": "object",
                  "stats": {
                    "unique_count": 1409,
                    "nan_count": 53,
                    "categories": [
                      {
                        "name": "b75c3278-1bf4-44a0-a071-6fab5f5848e7",
                        "count": 19
                      },
                      {
                        "name": "1408 others",
                        "count": 1820
                      },
                      {
                        "name": "Missing",
                        "count": 53
                      }
                    ]
                  }
                },
                {
                  "name": "Assigned to (ID)",
                  "dtype": "float64",
                  "stats": {
                    "unique_count": 5,
                    "nan_count": 189,
                    "min": "5570105.0",
                    "max": "6648831.0",
                    "histogram": [
                      {
                        "bin_start": 5570105,
                        "bin_end": 5677977.6,
                        "count": 86
                      },
                      {
                        "bin_start": 5677977.6,
                        "bin_end": 5785850.2,
                        "count": 1602
                      },
                      {
                        "bin_start": 5785850.2,
                        "bin_end": 5893722.8,
                        "count": 7
                      },
                      {
                        "bin_start": 5893722.8,
                        "bin_end": 6001595.4,
                        "count": 0
                      },
                      {
                        "bin_start": 6001595.4,
                        "bin_end": 6109468,
                        "count": 0
                      },
                      {
                        "bin_start": 6109468,
                        "bin_end": 6217340.6,
                        "count": 0
                      },
                      {
                        "bin_start": 6217340.6,
                        "bin_end": 6325213.2,
                        "count": 0
                      },
                      {
                        "bin_start": 6325213.2,
                        "bin_end": 6433085.8,
                        "count": 0
                      },
                      {
                        "bin_start": 6433085.8,
                        "bin_end": 6540958.4,
                        "count": 0
                      },
                      {
                        "bin_start": 6540958.4,
                        "bin_end": 6648831,
                        "count": 8
                      }
                    ]
                  }
                },
                {
                  "name": "Assigned to (name)",
                  "dtype": "object",
                  "stats": {
                    "unique_count": 5,
                    "nan_count": 189,
                    "categories": [
                      {
                        "name": "Dave",
                        "count": 1602
                      },
                      {
                        "name": "4 others",
                        "count": 101
                      },
                      {
                        "name": "Missing",
                        "count": 189
                      }
                    ]
                  }
                },
                {
                  "name": "Team assigned to (ID)",
                  "dtype": "float64",
                  "stats": {
                    "unique_count": 1,
                    "nan_count": 1866,
                    "min": "5794293.0",
                    "max": "5794293.0",
                    "histogram": [
                      {
                        "bin_start": 5794292.5,
                        "bin_end": 5794292.6,
                        "count": 0
                      },
                      {
                        "bin_start": 5794292.6,
                        "bin_end": 5794292.7,
                        "count": 0
                      },
                      {
                        "bin_start": 5794292.7,
                        "bin_end": 5794292.8,
                        "count": 0
                      },
                      {
                        "bin_start": 5794292.8,
                        "bin_end": 5794292.9,
                        "count": 0
                      },
                      {
                        "bin_start": 5794292.9,
                        "bin_end": 5794293,
                        "count": 0
                      },
                      {
                        "bin_start": 5794293,
                        "bin_end": 5794293.1,
                        "count": 26
                      },
                      {
                        "bin_start": 5794293.1,
                        "bin_end": 5794293.2,
                        "count": 0
                      },
                      {
                        "bin_start": 5794293.2,
                        "bin_end": 5794293.3,
                        "count": 0
                      },
                      {
                        "bin_start": 5794293.3,
                        "bin_end": 5794293.4,
                        "count": 0
                      },
                      {
                        "bin_start": 5794293.4,
                        "bin_end": 5794293.5,
                        "count": 0
                      }
                    ]
                  }
                },
                {
                  "name": "Team assigned to (name)",
                  "dtype": "object",
                  "stats": {
                    "unique_count": 1,
                    "nan_count": 1866,
                    "categories": [
                      {
                        "name": "Sales",
                        "count": 26
                      },
                      {
                        "name": "Missing",
                        "count": 1866
                      }
                    ]
                  }
                },
                {
                  "name": "Closed by (ID)",
                  "dtype": "float64",
                  "stats": {
                    "unique_count": 4,
                    "nan_count": 9,
                    "min": "5570105.0",
                    "max": "6648831.0",
                    "histogram": [
                      {
                        "bin_start": 5570105,
                        "bin_end": 5677977.6,
                        "count": 171
                      },
                      {
                        "bin_start": 5677977.6,
                        "bin_end": 5785850.2,
                        "count": 1695
                      },
                      {
                        "bin_start": 5785850.2,
                        "bin_end": 5893722.8,
                        "count": 0
                      },
                      {
                        "bin_start": 5893722.8,
                        "bin_end": 6001595.4,
                        "count": 0
                      },
                      {
                        "bin_start": 6001595.4,
                        "bin_end": 6109468,
                        "count": 0
                      },
                      {
                        "bin_start": 6109468,
                        "bin_end": 6217340.6,
                        "count": 0
                      },
                      {
                        "bin_start": 6217340.6,
                        "bin_end": 6325213.2,
                        "count": 0
                      },
                      {
                        "bin_start": 6325213.2,
                        "bin_end": 6433085.8,
                        "count": 0
                      },
                      {
                        "bin_start": 6433085.8,
                        "bin_end": 6540958.4,
                        "count": 0
                      },
                      {
                        "bin_start": 6540958.4,
                        "bin_end": 6648831,
                        "count": 17
                      }
                    ]
                  }
                },
                {
                  "name": "Closed by (name)",
                  "dtype": "object",
                  "stats": {
                    "unique_count": 4,
                    "nan_count": 9,
                    "categories": [
                      {
                        "name": "Dave",
                        "count": 1695
                      },
                      {
                        "name": "3 others",
                        "count": 188
                      },
                      {
                        "name": "Missing",
                        "count": 9
                      }
                    ]
                  }
                },
                {
                  "name": "Teammates participated",
                  "dtype": "object",
                  "stats": {
                    "unique_count": 11,
                    "nan_count": 280,
                    "categories": [
                      {
                        "name": "Dave",
                        "count": 1583
                      },
                      {
                        "name": "10 others",
                        "count": 29
                      },
                      {
                        "name": "Missing",
                        "count": 280
                      }
                    ]
                  }
                },
                {
                  "name": "Time to first reply (seconds)",
                  "dtype": "float64",
                  "stats": {
                    "unique_count": 1050,
                    "nan_count": 676,
                    "min": "13.0",
                    "max": "288000.0",
                    "histogram": [
                      {
                        "bin_start": 13,
                        "bin_end": 28811.7,
                        "count": 1113
                      },
                      {
                        "bin_start": 28811.7,
                        "bin_end": 57610.4,
                        "count": 63
                      },
                      {
                        "bin_start": 57610.4,
                        "bin_end": 86409.1,
                        "count": 28
                      },
                      {
                        "bin_start": 86409.1,
                        "bin_end": 115207.8,
                        "count": 11
                      },
                      {
                        "bin_start": 115207.8,
                        "bin_end": 144006.5,
                        "count": 0
                      },
                      {
                        "bin_start": 144006.5,
                        "bin_end": 172805.2,
                        "count": 0
                      },
                      {
                        "bin_start": 172805.2,
                        "bin_end": 201603.9,
                        "count": 0
                      },
                      {
                        "bin_start": 201603.9,
                        "bin_end": 230402.6,
                        "count": 0
                      },
                      {
                        "bin_start": 230402.6,
                        "bin_end": 259201.30000000002,
                        "count": 0
                      },
                      {
                        "bin_start": 259201.30000000002,
                        "bin_end": 288000,
                        "count": 1
                      }
                    ]
                  }
                },
                {
                  "name": "Time to last close (seconds)",
                  "dtype": "float64",
                  "stats": {
                    "unique_count": 1543,
                    "nan_count": 198,
                    "min": "6.0",
                    "max": "2365200.0",
                    "histogram": [
                      {
                        "bin_start": 6,
                        "bin_end": 236525.4,
                        "count": 1642
                      },
                      {
                        "bin_start": 236525.4,
                        "bin_end": 473044.8,
                        "count": 35
                      },
                      {
                        "bin_start": 473044.8,
                        "bin_end": 709564.2,
                        "count": 11
                      },
                      {
                        "bin_start": 709564.2,
                        "bin_end": 946083.6,
                        "count": 2
                      },
                      {
                        "bin_start": 946083.6,
                        "bin_end": 1182603,
                        "count": 0
                      },
                      {
                        "bin_start": 1182603,
                        "bin_end": 1419122.4,
                        "count": 1
                      },
                      {
                        "bin_start": 1419122.4,
                        "bin_end": 1655641.8,
                        "count": 0
                      },
                      {
                        "bin_start": 1655641.8,
                        "bin_end": 1892161.2,
                        "count": 0
                      },
                      {
                        "bin_start": 1892161.2,
                        "bin_end": 2128680.6,
                        "count": 1
                      },
                      {
                        "bin_start": 2128680.6,
                        "bin_end": 2365200,
                        "count": 2
                      }
                    ]
                  }
                },
                {
                  "name": "Teammate replies",
                  "dtype": "int64",
                  "stats": {
                    "unique_count": 27,
                    "nan_count": 0,
                    "min": "0",
                    "max": "46",
                    "histogram": [
                      {
                        "bin_start": 0,
                        "bin_end": 4.6,
                        "count": 1657
                      },
                      {
                        "bin_start": 4.6,
                        "bin_end": 9.2,
                        "count": 169
                      },
                      {
                        "bin_start": 9.2,
                        "bin_end": 13.799999999999999,
                        "count": 37
                      },
                      {
                        "bin_start": 13.799999999999999,
                        "bin_end": 18.4,
                        "count": 14
                      },
                      {
                        "bin_start": 18.4,
                        "bin_end": 23,
                        "count": 10
                      },
                      {
                        "bin_start": 23,
                        "bin_end": 27.599999999999998,
                        "count": 3
                      },
                      {
                        "bin_start": 27.599999999999998,
                        "bin_end": 32.199999999999996,
                        "count": 1
                      },
                      {
                        "bin_start": 32.199999999999996,
                        "bin_end": 36.8,
                        "count": 0
                      },
                      {
                        "bin_start": 36.8,
                        "bin_end": 41.4,
                        "count": 0
                      },
                      {
                        "bin_start": 41.4,
                        "bin_end": 46,
                        "count": 1
                      }
                    ]
                  }
                },
                {
                  "name": "Teammate rated (ID)",
                  "dtype": "float64",
                  "stats": {
                    "unique_count": 3,
                    "nan_count": 824,
                    "min": "5625167.0",
                    "max": "6648831.0",
                    "histogram": [
                      {
                        "bin_start": 5625167,
                        "bin_end": 5727533.4,
                        "count": 4
                      },
                      {
                        "bin_start": 5727533.4,
                        "bin_end": 5829899.8,
                        "count": 1060
                      },
                      {
                        "bin_start": 5829899.8,
                        "bin_end": 5932266.2,
                        "count": 0
                      },
                      {
                        "bin_start": 5932266.2,
                        "bin_end": 6034632.6,
                        "count": 0
                      },
                      {
                        "bin_start": 6034632.6,
                        "bin_end": 6136999,
                        "count": 0
                      },
                      {
                        "bin_start": 6136999,
                        "bin_end": 6239365.4,
                        "count": 0
                      },
                      {
                        "bin_start": 6239365.4,
                        "bin_end": 6341731.8,
                        "count": 0
                      },
                      {
                        "bin_start": 6341731.8,
                        "bin_end": 6444098.2,
                        "count": 0
                      },
                      {
                        "bin_start": 6444098.2,
                        "bin_end": 6546464.6,
                        "count": 0
                      },
                      {
                        "bin_start": 6546464.6,
                        "bin_end": 6648831,
                        "count": 4
                      }
                    ]
                  }
                },
                {
                  "name": "Teammate rated (name)",
                  "dtype": "object",
                  "stats": {
                    "unique_count": 3,
                    "nan_count": 824,
                    "categories": [
                      {
                        "name": "Dave",
                        "count": 1060
                      },
                      {
                        "name": "2 others",
                        "count": 8
                      },
                      {
                        "name": "Missing",
                        "count": 824
                      }
                    ]
                  }
                },
                {
                  "name": "Channel",
                  "dtype": "object",
                  "stats": {
                    "unique_count": 2,
                    "nan_count": 0,
                    "categories": [
                      {
                        "name": "Desktop",
                        "count": 1426
                      },
                      {
                        "name": "Email",
                        "count": 466
                      }
                    ]
                  }
                },
                {
                  "name": "Source",
                  "dtype": "object",
                  "stats": {
                    "unique_count": 4,
                    "nan_count": 11,
                    "categories": [
                      {
                        "name": "Inbound message",
                        "count": 1639
                      },
                      {
                        "name": "3 others",
                        "count": 242
                      },
                      {
                        "name": "Missing",
                        "count": 11
                      }
                    ]
                  }
                },
                {
                  "name": "Created by",
                  "dtype": "float64",
                  "stats": {
                    "unique_count": 3,
                    "nan_count": 779,
                    "min": "5576226.0",
                    "max": "6648831.0",
                    "histogram": [
                      {
                        "bin_start": 5576226,
                        "bin_end": 5683486.5,
                        "count": 1
                      },
                      {
                        "bin_start": 5683486.5,
                        "bin_end": 5790747,
                        "count": 1109
                      },
                      {
                        "bin_start": 5790747,
                        "bin_end": 5898007.5,
                        "count": 0
                      },
                      {
                        "bin_start": 5898007.5,
                        "bin_end": 6005268,
                        "count": 0
                      },
                      {
                        "bin_start": 6005268,
                        "bin_end": 6112528.5,
                        "count": 0
                      },
                      {
                        "bin_start": 6112528.5,
                        "bin_end": 6219789,
                        "count": 0
                      },
                      {
                        "bin_start": 6219789,
                        "bin_end": 6327049.5,
                        "count": 0
                      },
                      {
                        "bin_start": 6327049.5,
                        "bin_end": 6434310,
                        "count": 0
                      },
                      {
                        "bin_start": 6434310,
                        "bin_end": 6541570.5,
                        "count": 0
                      },
                      {
                        "bin_start": 6541570.5,
                        "bin_end": 6648831,
                        "count": 3
                      }
                    ]
                  }
                },
                {
                  "name": "Language",
                  "dtype": "object",
                  "stats": {
                    "unique_count": 1,
                    "nan_count": 52,
                    "categories": [
                      {
                        "name": "English",
                        "count": 1840
                      },
                      {
                        "name": "Missing",
                        "count": 52
                      }
                    ]
                  }
                },
                {
                  "name": "External ID",
                  "dtype": "object",
                  "stats": {
                    "unique_count": 0,
                    "nan_count": 1892,
                    "categories": [
                      {
                        "name": "Missing",
                        "count": 1892
                      }
                    ]
                  }
                },
                {
                  "name": "Fin AI Agent: Preview",
                  "dtype": "object",
                  "stats": {
                    "unique_count": 0,
                    "nan_count": 1892,
                    "categories": [
                      {
                        "name": "Missing",
                        "count": 1892
                      }
                    ]
                  }
                },
                {
                  "name": "Workflow: Preview",
                  "dtype": "object",
                  "stats": {
                    "unique_count": 0,
                    "nan_count": 1892,
                    "categories": [
                      {
                        "name": "Missing",
                        "count": 1892
                      }
                    ]
                  }
                },
                {
                  "name": "Fin AI Agent resolution state",
                  "dtype": "object",
                  "stats": {
                    "unique_count": 3,
                    "nan_count": 1779,
                    "categories": [
                      {
                        "name": "Routed to team",
                        "count": 61
                      },
                      {
                        "name": "2 others",
                        "count": 52
                      },
                      {
                        "name": "Missing",
                        "count": 1779
                      }
                    ]
                  }
                },
                {
                  "name": "Customer reports",
                  "dtype": "object",
                  "stats": {
                    "unique_count": 0,
                    "nan_count": 1892,
                    "categories": [
                      {
                        "name": "Missing",
                        "count": 1892
                      }
                    ]
                  }
                },
                {
                  "name": "Ticket category",
                  "dtype": "object",
                  "stats": {
                    "unique_count": 1,
                    "nan_count": 783,
                    "categories": [
                      {
                        "name": "Customer ticket",
                        "count": 1109
                      },
                      {
                        "name": "Missing",
                        "count": 783
                      }
                    ]
                  }
                },
                {
                  "name": "Latest workspace phone number",
                  "dtype": "object",
                  "stats": {
                    "unique_count": 0,
                    "nan_count": 1892,
                    "categories": [
                      {
                        "name": "Missing",
                        "count": 1892
                      }
                    ]
                  }
                },
                {
                  "name": "Urgency",
                  "dtype": "object"
                },
                {
                  "name": "_deepnote_index_column",
                  "dtype": "int64"
                }
              ],
              "rows": [
                {
                  "Conversation ID": 28365,
                  "Conversation URL": "https://app.intercom.com/a/apps/ijd0po3e/inbox/inbox/conversation/28365",
                  "Title": "None",
                  "Conversation status": "Closed",
                  "Conversation tags": "bug reports",
                  "Created at": "2023-11-20 23:55:36",
                  "Last updated at": "2023-11-27 09:19:45",
                  "Last closed at": "2023-11-27 09:19:45",
                  "Time Zone": "Dublin",
                  "Inbound/Outbound": "Inbound",
                  "Reopened": 1,
                  "Closed": 2,
                  "Conversation rating": "nan",
                  "Conversation rating requested": "yes",
                  "Rating updated at": "2023-11-23 10:33:38",
                  "Conversation rating remark": "None",
                  "Conversation topics": "None",
                  "Companies (ID)": "9f906dd0-38ea-497d-a186-96293529d66d",
                  "Companies (name)": "Michael Ball",
                  "Company tags": "None",
                  "Email": "cycomachead@gmail.com",
                  "Location": "San Francisco, United States",
                  "Name": "Michael Ball",
                  "Type": "User",
                  "Participated (ID)": "8b8a3093-58dc-4899-9358-f4a178c56ded",
                  "Participated (name)": "Michael Ball",
                  "Participated (email)": "cycomachead@gmail.com",
                  "People tags": "None",
                  "User ID": "8b8a3093-58dc-4899-9358-f4a178c56ded",
                  "Assigned to (ID)": 5729911,
                  "Assigned to (name)": "Dave",
                  "Team assigned to (ID)": "nan",
                  "Team assigned to (name)": "None",
                  "Closed by (ID)": 5729911,
                  "Closed by (name)": "Dave",
                  "Teammates participated": "Dave",
                  "Time to first reply (seconds)": 4833,
                  "Time to last close (seconds)": 119985,
                  "Teammate replies": 4,
                  "Teammate rated (ID)": 5729911,
                  "Teammate rated (name)": "Dave",
                  "Channel": "Desktop",
                  "Source": "Inbound message",
                  "Created by": 5729911,
                  "Language": "English",
                  "External ID": "None",
                  "Fin AI Agent: Preview": "None",
                  "Workflow: Preview": "None",
                  "Fin AI Agent resolution state": "None",
                  "Customer reports": "None",
                  "Ticket category": "Customer ticket",
                  "Latest workspace phone number": "None",
                  "Urgency": "Low",
                  "_deepnote_index_column": 0
                },
                {
                  "Conversation ID": 28428,
                  "Conversation URL": "https://app.intercom.com/a/apps/ijd0po3e/inbox/inbox/conversation/28428",
                  "Title": "Need",
                  "Conversation status": "Closed",
                  "Conversation tags": "None",
                  "Created at": "2023-11-27 04:12:42",
                  "Last updated at": "2023-11-27 09:54:35",
                  "Last closed at": "2023-11-27 09:54:35",
                  "Time Zone": "Dublin",
                  "Inbound/Outbound": "Inbound",
                  "Reopened": 0,
                  "Closed": 1,
                  "Conversation rating": "nan",
                  "Conversation rating requested": "no",
                  "Rating updated at": "NaT",
                  "Conversation rating remark": "None",
                  "Conversation topics": "None",
                  "Companies (ID)": "None",
                  "Companies (name)": "None",
                  "Company tags": "None",
                  "Email": "kaityy.o@icloud.com",
                  "Location": "None",
                  "Name": "Kaitlyn Olberding",
                  "Type": "Lead",
                  "Participated (ID)": "c29e710b-5125-4624-a9de-6af867e09498",
                  "Participated (name)": "Kaitlyn Olberding",
                  "Participated (email)": "kaityy.o@icloud.com",
                  "People tags": "None",
                  "User ID": "c29e710b-5125-4624-a9de-6af867e09498",
                  "Assigned to (ID)": 5729911,
                  "Assigned to (name)": "Dave",
                  "Team assigned to (ID)": "nan",
                  "Team assigned to (name)": "None",
                  "Closed by (ID)": 5729911,
                  "Closed by (name)": "Dave",
                  "Teammates participated": "Dave",
                  "Time to first reply (seconds)": "nan",
                  "Time to last close (seconds)": 6875,
                  "Teammate replies": 1,
                  "Teammate rated (ID)": "nan",
                  "Teammate rated (name)": "None",
                  "Channel": "Email",
                  "Source": "Inbound message",
                  "Created by": 5729911,
                  "Language": "English",
                  "External ID": "None",
                  "Fin AI Agent: Preview": "None",
                  "Workflow: Preview": "None",
                  "Fin AI Agent resolution state": "None",
                  "Customer reports": "None",
                  "Ticket category": "Customer ticket",
                  "Latest workspace phone number": "None",
                  "Urgency": "Low",
                  "_deepnote_index_column": 1
                },
                {
                  "Conversation ID": 28234,
                  "Conversation URL": "https://app.intercom.com/a/apps/ijd0po3e/inbox/inbox/conversation/28234",
                  "Title": "None",
                  "Conversation status": "Closed",
                  "Conversation tags": "Downgrade Request",
                  "Created at": "2023-11-12 15:53:29",
                  "Last updated at": "2023-11-14 17:32:34",
                  "Last closed at": "2023-11-13 10:43:50",
                  "Time Zone": "Dublin",
                  "Inbound/Outbound": "Outbound",
                  "Reopened": 0,
                  "Closed": 1,
                  "Conversation rating": "nan",
                  "Conversation rating requested": "no",
                  "Rating updated at": "NaT",
                  "Conversation rating remark": "None",
                  "Conversation topics": "None",
                  "Companies (ID)": "46b28709-df42-4436-9907-8b2e2f05e7dd, 96c7e7c3-31a8-4421-98b8-a19e9002c692, b17c2a7e-47f4-44c7-bcdd-9d9e2d6387bc, da1fa562-f87d-486e-a4a6-16e7eee3f63d, 63037dd8-28ef-4cd9-8850-600c56ebee88, be230b72-3f24-49cd-96d6-d0775d32bf51",
                  "Companies (name)": "BBS Workspace, Alisa, BBS, Kate, BBS Cristina, enjoyPython",
                  "Company tags": "None",
                  "Email": "alisa.tarada@gmail.com",
                  "Location": "Milan, Italy",
                  "Name": "Alisa Tarada",
                  "Type": "User",
                  "Participated (ID)": "f48399ef-2d26-4106-8914-1aa517ebc8b9",
                  "Participated (name)": "Alisa Tarada",
                  "Participated (email)": "alisa.tarada@gmail.com",
                  "People tags": "None",
                  "User ID": "f48399ef-2d26-4106-8914-1aa517ebc8b9",
                  "Assigned to (ID)": 5729911,
                  "Assigned to (name)": "Dave",
                  "Team assigned to (ID)": "nan",
                  "Team assigned to (name)": "None",
                  "Closed by (ID)": 5729911,
                  "Closed by (name)": "Dave",
                  "Teammates participated": "Dave",
                  "Time to first reply (seconds)": 5850,
                  "Time to last close (seconds)": 9830,
                  "Teammate replies": 2,
                  "Teammate rated (ID)": "nan",
                  "Teammate rated (name)": "None",
                  "Channel": "Desktop",
                  "Source": "User auto message",
                  "Created by": 5729911,
                  "Language": "English",
                  "External ID": "None",
                  "Fin AI Agent: Preview": "None",
                  "Workflow: Preview": "None",
                  "Fin AI Agent resolution state": "None",
                  "Customer reports": "None",
                  "Ticket category": "Customer ticket",
                  "Latest workspace phone number": "None",
                  "Urgency": "Downgrade Request",
                  "_deepnote_index_column": 2
                },
                {
                  "Conversation ID": 28236,
                  "Conversation URL": "https://app.intercom.com/a/apps/ijd0po3e/inbox/inbox/conversation/28236",
                  "Title": "⠀",
                  "Conversation status": "Closed",
                  "Conversation tags": "product support [urgent], Premier Customer",
                  "Created at": "2023-11-12 16:21:09",
                  "Last updated at": "2023-11-15 10:59:22",
                  "Last closed at": "2023-11-14 12:27:00",
                  "Time Zone": "Dublin",
                  "Inbound/Outbound": "Inbound",
                  "Reopened": 0,
                  "Closed": 1,
                  "Conversation rating": "nan",
                  "Conversation rating requested": "yes",
                  "Rating updated at": "2023-11-14 12:27:11",
                  "Conversation rating remark": "None",
                  "Conversation topics": "None",
                  "Companies (ID)": "71742312-24f2-4c10-9bf7-786d17280b92, 8b0ebf6d-5672-4a8b-a488-2dd220383dd3, 8badcde6-c129-454c-ae25-da45d7221fdc, ae84d86b-b060-4628-9c3c-7085d6fa35d3",
                  "Companies (name)": "Deepnote Templates, Deepnote, ⠀⠀⠀⠀, ⠀⠀⠀⠀",
                  "Company tags": "None",
                  "Email": "oooooooooooooooo@skiff.com",
                  "Location": "Minsk, Belarus",
                  "Name": "⠀",
                  "Type": "User",
                  "Participated (ID)": "77624937-c4bd-4a1d-ba18-cbb1fbd426dc, 7df3daa2-4b47-4b8f-b96a-ded6ad00d669, 50b4d40c-7ac7-4e6b-88ea-b6c70190d54e, 7a10b6c1-0827-4956-bc09-659c1839ca1f",
                  "Participated (name)": "⠀, Robert Lacok, Filip, sdfsd",
                  "Participated (email)": "oooooooooooooooo@skiff.com, robert@deepnote.com, filip@deepnote.com, robert.lacok@gmail.com",
                  "People tags": "None",
                  "User ID": "77624937-c4bd-4a1d-ba18-cbb1fbd426dc",
                  "Assigned to (ID)": 5729911,
                  "Assigned to (name)": "Dave",
                  "Team assigned to (ID)": "nan",
                  "Team assigned to (name)": "None",
                  "Closed by (ID)": 5729911,
                  "Closed by (name)": "Dave",
                  "Teammates participated": "Dave",
                  "Time to first reply (seconds)": 4984,
                  "Time to last close (seconds)": 44820,
                  "Teammate replies": 1,
                  "Teammate rated (ID)": 5729911,
                  "Teammate rated (name)": "Dave",
                  "Channel": "Email",
                  "Source": "Inbound message",
                  "Created by": 5729911,
                  "Language": "English",
                  "External ID": "None",
                  "Fin AI Agent: Preview": "None",
                  "Workflow: Preview": "None",
                  "Fin AI Agent resolution state": "None",
                  "Customer reports": "None",
                  "Ticket category": "Customer ticket",
                  "Latest workspace phone number": "None",
                  "Urgency": "Low",
                  "_deepnote_index_column": 3
                },
                {
                  "Conversation ID": 28209,
                  "Conversation URL": "https://app.intercom.com/a/apps/ijd0po3e/inbox/inbox/conversation/28209",
                  "Title": "None",
                  "Conversation status": "Closed",
                  "Conversation tags": "product support [not urgent]",
                  "Created at": "2023-11-08 15:18:51",
                  "Last updated at": "2023-11-08 21:39:31",
                  "Last closed at": "2023-11-08 16:09:17",
                  "Time Zone": "Dublin",
                  "Inbound/Outbound": "Inbound",
                  "Reopened": 0,
                  "Closed": 1,
                  "Conversation rating": "nan",
                  "Conversation rating requested": "yes",
                  "Rating updated at": "2023-11-08 16:09:29",
                  "Conversation rating remark": "None",
                  "Conversation topics": "None",
                  "Companies (ID)": "68276cbd-75a7-4c5d-9614-0d0fd5358720",
                  "Companies (name)": "BabuuFrik123",
                  "Company tags": "None",
                  "Email": "artoos.jasper@gmail.com",
                  "Location": "Mechelen, Belgium",
                  "Name": "Jasper Artoos",
                  "Type": "User",
                  "Participated (ID)": "4827cdfc-162d-489b-8806-a24034013ac5",
                  "Participated (name)": "Jasper Artoos",
                  "Participated (email)": "artoos.jasper@gmail.com",
                  "People tags": "None",
                  "User ID": "4827cdfc-162d-489b-8806-a24034013ac5",
                  "Assigned to (ID)": 5729911,
                  "Assigned to (name)": "Dave",
                  "Team assigned to (ID)": "nan",
                  "Team assigned to (name)": "None",
                  "Closed by (ID)": 5729911,
                  "Closed by (name)": "Dave",
                  "Teammates participated": "Dave",
                  "Time to first reply (seconds)": 47,
                  "Time to last close (seconds)": 2470,
                  "Teammate replies": 6,
                  "Teammate rated (ID)": 5729911,
                  "Teammate rated (name)": "Dave",
                  "Channel": "Desktop",
                  "Source": "Inbound message",
                  "Created by": 5729911,
                  "Language": "English",
                  "External ID": "None",
                  "Fin AI Agent: Preview": "None",
                  "Workflow: Preview": "None",
                  "Fin AI Agent resolution state": "None",
                  "Customer reports": "None",
                  "Ticket category": "Customer ticket",
                  "Latest workspace phone number": "None",
                  "Urgency": "Suspended Account",
                  "_deepnote_index_column": 4
                },
                {
                  "Conversation ID": 29519,
                  "Conversation URL": "https://app.intercom.com/a/apps/ijd0po3e/inbox/inbox/conversation/29519",
                  "Title": "None",
                  "Conversation status": "Closed",
                  "Conversation tags": "education",
                  "Created at": "2024-01-14 19:00:07",
                  "Last updated at": "2024-01-14 19:00:26",
                  "Last closed at": "2024-01-14 19:00:26",
                  "Time Zone": "Dublin",
                  "Inbound/Outbound": "Inbound",
                  "Reopened": 0,
                  "Closed": 1,
                  "Conversation rating": "nan",
                  "Conversation rating requested": "no",
                  "Rating updated at": "NaT",
                  "Conversation rating remark": "None",
                  "Conversation topics": "None",
                  "Companies (ID)": "91e607d7-d928-4eb1-b7e6-0f465cea66a2",
                  "Companies (name)": "Jacky",
                  "Company tags": "None",
                  "Email": "jackyz0828@gmail.com",
                  "Location": "Covina, United States",
                  "Name": "Jacky Zhou",
                  "Type": "User",
                  "Participated (ID)": "1aa092a1-8108-4229-aa03-a5ec5bba918b",
                  "Participated (name)": "Jacky Zhou",
                  "Participated (email)": "jackyz0828@gmail.com",
                  "People tags": "None",
                  "User ID": "1aa092a1-8108-4229-aa03-a5ec5bba918b",
                  "Assigned to (ID)": "nan",
                  "Assigned to (name)": "None",
                  "Team assigned to (ID)": "nan",
                  "Team assigned to (name)": "None",
                  "Closed by (ID)": 5570105,
                  "Closed by (name)": "Customer Team",
                  "Teammates participated": "None",
                  "Time to first reply (seconds)": "nan",
                  "Time to last close (seconds)": "nan",
                  "Teammate replies": 0,
                  "Teammate rated (ID)": "nan",
                  "Teammate rated (name)": "None",
                  "Channel": "Desktop",
                  "Source": "Inbound message",
                  "Created by": "nan",
                  "Language": "English",
                  "External ID": "None",
                  "Fin AI Agent: Preview": "None",
                  "Workflow: Preview": "None",
                  "Fin AI Agent resolution state": "None",
                  "Customer reports": "None",
                  "Ticket category": "None",
                  "Latest workspace phone number": "None",
                  "Urgency": "None",
                  "_deepnote_index_column": 5
                },
                {
                  "Conversation ID": 28684,
                  "Conversation URL": "https://app.intercom.com/a/apps/ijd0po3e/inbox/inbox/conversation/28684",
                  "Title": "None",
                  "Conversation status": "Closed",
                  "Conversation tags": "None",
                  "Created at": "2023-12-08 03:01:00",
                  "Last updated at": "2023-12-27 20:03:27",
                  "Last closed at": "2023-12-12 09:09:57",
                  "Time Zone": "Dublin",
                  "Inbound/Outbound": "Outbound",
                  "Reopened": 0,
                  "Closed": 1,
                  "Conversation rating": "nan",
                  "Conversation rating requested": "no",
                  "Rating updated at": "NaT",
                  "Conversation rating remark": "None",
                  "Conversation topics": "None",
                  "Companies (ID)": "ac8201a1-470a-4c77-afd0-2cc45bc229ff, 0b3b2c53-a7ad-441b-80f8-bf8350752305, b67c2881-5871-430a-b606-dad33dbda088, c88b7bf5-4b40-433d-82f8-5a2c526d2ad3, ab541bbd-c749-43e6-a820-0a2793002d2a",
                  "Companies (name)": "Manipulation, Drake, Michael Burgess, Robotic Manipulation 2023, iCornhole",
                  "Company tags": "None",
                  "Email": "juanrached@gmail.com",
                  "Location": "Marco Island, United States",
                  "Name": "juan rached",
                  "Type": "User",
                  "Participated (ID)": "2a04db08-37e4-459f-80ed-2c13a27bbd31",
                  "Participated (name)": "juan rached",
                  "Participated (email)": "juanrached@gmail.com",
                  "People tags": "None",
                  "User ID": "2a04db08-37e4-459f-80ed-2c13a27bbd31",
                  "Assigned to (ID)": 5729911,
                  "Assigned to (name)": "Dave",
                  "Team assigned to (ID)": "nan",
                  "Team assigned to (name)": "None",
                  "Closed by (ID)": 5729911,
                  "Closed by (name)": "Dave",
                  "Teammates participated": "Dave",
                  "Time to first reply (seconds)": 6674,
                  "Time to last close (seconds)": 61797,
                  "Teammate replies": 2,
                  "Teammate rated (ID)": "nan",
                  "Teammate rated (name)": "None",
                  "Channel": "Desktop",
                  "Source": "None",
                  "Created by": 5729911,
                  "Language": "English",
                  "External ID": "None",
                  "Fin AI Agent: Preview": "None",
                  "Workflow: Preview": "None",
                  "Fin AI Agent resolution state": "None",
                  "Customer reports": "None",
                  "Ticket category": "Customer ticket",
                  "Latest workspace phone number": "None",
                  "Urgency": "Low",
                  "_deepnote_index_column": 6
                },
                {
                  "Conversation ID": 29232,
                  "Conversation URL": "https://app.intercom.com/a/apps/ijd0po3e/inbox/inbox/conversation/29232",
                  "Title": "None",
                  "Conversation status": "Closed",
                  "Conversation tags": "sales",
                  "Created at": "2023-12-12 18:14:04",
                  "Last updated at": "2023-12-13 16:20:35",
                  "Last closed at": "2023-12-13 16:20:35",
                  "Time Zone": "Dublin",
                  "Inbound/Outbound": "Inbound",
                  "Reopened": 1,
                  "Closed": 2,
                  "Conversation rating": "nan",
                  "Conversation rating requested": "no",
                  "Rating updated at": "NaT",
                  "Conversation rating remark": "None",
                  "Conversation topics": "None",
                  "Companies (ID)": "None",
                  "Companies (name)": "None",
                  "Company tags": "None",
                  "Email": "None",
                  "Location": "Brno, Czechia",
                  "Name": "None",
                  "Type": "Lead",
                  "Participated (ID)": "1bf7c979-f733-46b1-9e4f-6c7097986a66",
                  "Participated (name)": "None",
                  "Participated (email)": "None",
                  "People tags": "None",
                  "User ID": "1bf7c979-f733-46b1-9e4f-6c7097986a66",
                  "Assigned to (ID)": 5794293,
                  "Assigned to (name)": "Sales",
                  "Team assigned to (ID)": 5794293,
                  "Team assigned to (name)": "Sales",
                  "Closed by (ID)": 5729911,
                  "Closed by (name)": "Dave",
                  "Teammates participated": "None",
                  "Time to first reply (seconds)": "nan",
                  "Time to last close (seconds)": 28800,
                  "Teammate replies": 0,
                  "Teammate rated (ID)": "nan",
                  "Teammate rated (name)": "None",
                  "Channel": "Desktop",
                  "Source": "Inbound message",
                  "Created by": "nan",
                  "Language": "English",
                  "External ID": "None",
                  "Fin AI Agent: Preview": "None",
                  "Workflow: Preview": "None",
                  "Fin AI Agent resolution state": "None",
                  "Customer reports": "None",
                  "Ticket category": "None",
                  "Latest workspace phone number": "None",
                  "Urgency": "None",
                  "_deepnote_index_column": 7
                },
                {
                  "Conversation ID": 28222,
                  "Conversation URL": "https://app.intercom.com/a/apps/ijd0po3e/inbox/inbox/conversation/28222",
                  "Title": "⠀",
                  "Conversation status": "Closed",
                  "Conversation tags": "None",
                  "Created at": "2023-11-10 10:14:02",
                  "Last updated at": "2023-11-10 12:44:55",
                  "Last closed at": "2023-11-10 12:44:55",
                  "Time Zone": "Dublin",
                  "Inbound/Outbound": "Inbound",
                  "Reopened": 0,
                  "Closed": 1,
                  "Conversation rating": "nan",
                  "Conversation rating requested": "no",
                  "Rating updated at": "NaT",
                  "Conversation rating remark": "None",
                  "Conversation topics": "None",
                  "Companies (ID)": "71742312-24f2-4c10-9bf7-786d17280b92, 8b0ebf6d-5672-4a8b-a488-2dd220383dd3, 8badcde6-c129-454c-ae25-da45d7221fdc, ae84d86b-b060-4628-9c3c-7085d6fa35d3",
                  "Companies (name)": "Deepnote Templates, Deepnote, ⠀⠀⠀⠀, ⠀⠀⠀⠀",
                  "Company tags": "None",
                  "Email": "oooooooooooooooo@skiff.com",
                  "Location": "Minsk, Belarus",
                  "Name": "⠀",
                  "Type": "User",
                  "Participated (ID)": "77624937-c4bd-4a1d-ba18-cbb1fbd426dc, 7df3daa2-4b47-4b8f-b96a-ded6ad00d669, 50b4d40c-7ac7-4e6b-88ea-b6c70190d54e, 7a10b6c1-0827-4956-bc09-659c1839ca1f",
                  "Participated (name)": "⠀, Robert Lacok, Filip, sdfsd",
                  "Participated (email)": "oooooooooooooooo@skiff.com, robert@deepnote.com, filip@deepnote.com, robert.lacok@gmail.com",
                  "People tags": "None",
                  "User ID": "77624937-c4bd-4a1d-ba18-cbb1fbd426dc",
                  "Assigned to (ID)": 5729911,
                  "Assigned to (name)": "Dave",
                  "Team assigned to (ID)": "nan",
                  "Team assigned to (name)": "None",
                  "Closed by (ID)": 5729911,
                  "Closed by (name)": "Dave",
                  "Teammates participated": "Dave",
                  "Time to first reply (seconds)": 78,
                  "Time to last close (seconds)": 9053,
                  "Teammate replies": 1,
                  "Teammate rated (ID)": "nan",
                  "Teammate rated (name)": "None",
                  "Channel": "Email",
                  "Source": "Inbound message",
                  "Created by": "nan",
                  "Language": "English",
                  "External ID": "None",
                  "Fin AI Agent: Preview": "None",
                  "Workflow: Preview": "None",
                  "Fin AI Agent resolution state": "None",
                  "Customer reports": "None",
                  "Ticket category": "None",
                  "Latest workspace phone number": "None",
                  "Urgency": "High",
                  "_deepnote_index_column": 8
                },
                {
                  "Conversation ID": 29327,
                  "Conversation URL": "https://app.intercom.com/a/apps/ijd0po3e/inbox/inbox/conversation/29327",
                  "Title": "None",
                  "Conversation status": "Closed",
                  "Conversation tags": "product support [urgent], Premier Customer",
                  "Created at": "2023-12-21 11:40:25",
                  "Last updated at": "2024-01-02 14:47:33",
                  "Last closed at": "2024-01-02 14:26:45",
                  "Time Zone": "Dublin",
                  "Inbound/Outbound": "Inbound",
                  "Reopened": 0,
                  "Closed": 1,
                  "Conversation rating": 5,
                  "Conversation rating requested": "yes",
                  "Rating updated at": "2024-01-02 14:47:33",
                  "Conversation rating remark": "None",
                  "Conversation topics": "None",
                  "Companies (ID)": "4ca00e1d-f4d4-44a2-bcfe-b2a17a031bc6, 8b0ebf6d-5672-4a8b-a488-2dd220383dd3, dc3cff5d-b0ea-4c78-acb7-39379e0b315e, 31a9d371-45ef-4fb4-855a-5703b018592e",
                  "Companies (name)": "Allan Campopiano, Deepnote, Filip Stollar, NBIM",
                  "Company tags": "None",
                  "Email": "erik.dengerud@nbim.no",
                  "Location": "Stockholm, Sweden",
                  "Name": "Erik Dengerud",
                  "Type": "User",
                  "Participated (ID)": "2c154431-a2d3-4f91-877e-1e47116a9c0f",
                  "Participated (name)": "Erik Dengerud",
                  "Participated (email)": "erik.dengerud@nbim.no",
                  "People tags": "None",
                  "User ID": "2c154431-a2d3-4f91-877e-1e47116a9c0f",
                  "Assigned to (ID)": 5729911,
                  "Assigned to (name)": "Dave",
                  "Team assigned to (ID)": "nan",
                  "Team assigned to (name)": "None",
                  "Closed by (ID)": 5729911,
                  "Closed by (name)": "Dave",
                  "Teammates participated": "Dave",
                  "Time to first reply (seconds)": 90,
                  "Time to last close (seconds)": 240380,
                  "Teammate replies": 17,
                  "Teammate rated (ID)": 5729911,
                  "Teammate rated (name)": "Dave",
                  "Channel": "Desktop",
                  "Source": "Inbound message",
                  "Created by": 5729911,
                  "Language": "English",
                  "External ID": "None",
                  "Fin AI Agent: Preview": "None",
                  "Workflow: Preview": "None",
                  "Fin AI Agent resolution state": "None",
                  "Customer reports": "None",
                  "Ticket category": "Customer ticket",
                  "Latest workspace phone number": "None",
                  "Urgency": "High",
                  "_deepnote_index_column": 9
                }
              ]
            },
            "text/plain": "      Conversation ID                                   Conversation URL  \\\n0               28365  https://app.intercom.com/a/apps/ijd0po3e/inbox...   \n1               28428  https://app.intercom.com/a/apps/ijd0po3e/inbox...   \n2               28234  https://app.intercom.com/a/apps/ijd0po3e/inbox...   \n3               28236  https://app.intercom.com/a/apps/ijd0po3e/inbox...   \n4               28209  https://app.intercom.com/a/apps/ijd0po3e/inbox...   \n...               ...                                                ...   \n1887            33658  https://app.intercom.com/a/apps/ijd0po3e/inbox...   \n1888            33716  https://app.intercom.com/a/apps/ijd0po3e/inbox...   \n1889            33757  https://app.intercom.com/a/apps/ijd0po3e/inbox...   \n1890            33769  https://app.intercom.com/a/apps/ijd0po3e/inbox...   \n1891            33811  https://app.intercom.com/a/apps/ijd0po3e/inbox...   \n\n                             Title Conversation status  \\\n0                             None              Closed   \n1                             Need              Closed   \n2                             None              Closed   \n3                                ⠀              Closed   \n4                             None              Closed   \n...                            ...                 ...   \n1887                          None              Closed   \n1888           Deletion of Account              Closed   \n1889  Would like to delete account              Closed   \n1890                          None              Closed   \n1891                          None              Closed   \n\n                               Conversation tags          Created at  \\\n0                                    bug reports 2023-11-20 23:55:36   \n1                                           None 2023-11-27 04:12:42   \n2                              Downgrade Request 2023-11-12 15:53:29   \n3     product support [urgent], Premier Customer 2023-11-12 16:21:09   \n4                   product support [not urgent] 2023-11-08 15:18:51   \n...                                          ...                 ...   \n1887                                        None 2024-03-20 10:05:21   \n1888                                        None 2024-03-26 07:47:36   \n1889                                        None 2024-03-29 04:15:46   \n1890                                        None 2024-03-31 10:27:11   \n1891                                        None 2024-04-03 19:51:53   \n\n         Last updated at      Last closed at Time Zone Inbound/Outbound  ...  \\\n0    2023-11-27 09:19:45 2023-11-27 09:19:45    Dublin          Inbound  ...   \n1    2023-11-27 09:54:35 2023-11-27 09:54:35    Dublin          Inbound  ...   \n2    2023-11-14 17:32:34 2023-11-13 10:43:50    Dublin         Outbound  ...   \n3    2023-11-15 10:59:22 2023-11-14 12:27:00    Dublin          Inbound  ...   \n4    2023-11-08 21:39:31 2023-11-08 16:09:17    Dublin          Inbound  ...   \n...                  ...                 ...       ...              ...  ...   \n1887 2024-03-20 10:25:38 2024-03-20 10:25:38    Dublin         Outbound  ...   \n1888 2024-03-26 10:48:36 2024-03-26 10:48:36    Dublin          Inbound  ...   \n1889 2024-04-02 12:37:15 2024-04-02 10:43:09    Dublin          Inbound  ...   \n1890 2024-04-02 08:53:34 2024-04-02 08:53:34    Dublin          Inbound  ...   \n1891 2024-04-04 08:51:52 2024-04-04 08:51:52    Dublin          Inbound  ...   \n\n      Created by  Language  External ID Fin AI Agent: Preview  \\\n0      5729911.0   English         None                  None   \n1      5729911.0   English         None                  None   \n2      5729911.0   English         None                  None   \n3      5729911.0   English         None                  None   \n4      5729911.0   English         None                  None   \n...          ...       ...          ...                   ...   \n1887         NaN      None         None                  None   \n1888         NaN      None         None                  None   \n1889   5729911.0   English         None                  None   \n1890         NaN   English         None                  None   \n1891         NaN   English         None                  None   \n\n     Workflow: Preview Fin AI Agent resolution state Customer reports  \\\n0                 None                          None             None   \n1                 None                          None             None   \n2                 None                          None             None   \n3                 None                          None             None   \n4                 None                          None             None   \n...                ...                           ...              ...   \n1887              None                          None             None   \n1888              None                          None             None   \n1889              None                          None             None   \n1890              None                          None             None   \n1891              None                          None             None   \n\n      Ticket category Latest workspace phone number            Urgency  \n0     Customer ticket                          None                Low  \n1     Customer ticket                          None                Low  \n2     Customer ticket                          None  Downgrade Request  \n3     Customer ticket                          None                Low  \n4     Customer ticket                          None  Suspended Account  \n...               ...                           ...                ...  \n1887             None                          None               None  \n1888             None                          None               None  \n1889  Customer ticket                          None                Low  \n1890             None                          None               None  \n1891             None                          None               None  \n\n[1892 rows x 53 columns]",
            "text/html": "<div>\n<style scoped>\n    .dataframe tbody tr th:only-of-type {\n        vertical-align: middle;\n    }\n\n    .dataframe tbody tr th {\n        vertical-align: top;\n    }\n\n    .dataframe thead th {\n        text-align: right;\n    }\n</style>\n<table border=\"1\" class=\"dataframe\">\n  <thead>\n    <tr style=\"text-align: right;\">\n      <th></th>\n      <th>Conversation ID</th>\n      <th>Conversation URL</th>\n      <th>Title</th>\n      <th>Conversation status</th>\n      <th>Conversation tags</th>\n      <th>Created at</th>\n      <th>Last updated at</th>\n      <th>Last closed at</th>\n      <th>Time Zone</th>\n      <th>Inbound/Outbound</th>\n      <th>...</th>\n      <th>Created by</th>\n      <th>Language</th>\n      <th>External ID</th>\n      <th>Fin AI Agent: Preview</th>\n      <th>Workflow: Preview</th>\n      <th>Fin AI Agent resolution state</th>\n      <th>Customer reports</th>\n      <th>Ticket category</th>\n      <th>Latest workspace phone number</th>\n      <th>Urgency</th>\n    </tr>\n  </thead>\n  <tbody>\n    <tr>\n      <th>0</th>\n      <td>28365</td>\n      <td>https://app.intercom.com/a/apps/ijd0po3e/inbox...</td>\n      <td>None</td>\n      <td>Closed</td>\n      <td>bug reports</td>\n      <td>2023-11-20 23:55:36</td>\n      <td>2023-11-27 09:19:45</td>\n      <td>2023-11-27 09:19:45</td>\n      <td>Dublin</td>\n      <td>Inbound</td>\n      <td>...</td>\n      <td>5729911.0</td>\n      <td>English</td>\n      <td>None</td>\n      <td>None</td>\n      <td>None</td>\n      <td>None</td>\n      <td>None</td>\n      <td>Customer ticket</td>\n      <td>None</td>\n      <td>Low</td>\n    </tr>\n    <tr>\n      <th>1</th>\n      <td>28428</td>\n      <td>https://app.intercom.com/a/apps/ijd0po3e/inbox...</td>\n      <td>Need</td>\n      <td>Closed</td>\n      <td>None</td>\n      <td>2023-11-27 04:12:42</td>\n      <td>2023-11-27 09:54:35</td>\n      <td>2023-11-27 09:54:35</td>\n      <td>Dublin</td>\n      <td>Inbound</td>\n      <td>...</td>\n      <td>5729911.0</td>\n      <td>English</td>\n      <td>None</td>\n      <td>None</td>\n      <td>None</td>\n      <td>None</td>\n      <td>None</td>\n      <td>Customer ticket</td>\n      <td>None</td>\n      <td>Low</td>\n    </tr>\n    <tr>\n      <th>2</th>\n      <td>28234</td>\n      <td>https://app.intercom.com/a/apps/ijd0po3e/inbox...</td>\n      <td>None</td>\n      <td>Closed</td>\n      <td>Downgrade Request</td>\n      <td>2023-11-12 15:53:29</td>\n      <td>2023-11-14 17:32:34</td>\n      <td>2023-11-13 10:43:50</td>\n      <td>Dublin</td>\n      <td>Outbound</td>\n      <td>...</td>\n      <td>5729911.0</td>\n      <td>English</td>\n      <td>None</td>\n      <td>None</td>\n      <td>None</td>\n      <td>None</td>\n      <td>None</td>\n      <td>Customer ticket</td>\n      <td>None</td>\n      <td>Downgrade Request</td>\n    </tr>\n    <tr>\n      <th>3</th>\n      <td>28236</td>\n      <td>https://app.intercom.com/a/apps/ijd0po3e/inbox...</td>\n      <td>⠀</td>\n      <td>Closed</td>\n      <td>product support [urgent], Premier Customer</td>\n      <td>2023-11-12 16:21:09</td>\n      <td>2023-11-15 10:59:22</td>\n      <td>2023-11-14 12:27:00</td>\n      <td>Dublin</td>\n      <td>Inbound</td>\n      <td>...</td>\n      <td>5729911.0</td>\n      <td>English</td>\n      <td>None</td>\n      <td>None</td>\n      <td>None</td>\n      <td>None</td>\n      <td>None</td>\n      <td>Customer ticket</td>\n      <td>None</td>\n      <td>Low</td>\n    </tr>\n    <tr>\n      <th>4</th>\n      <td>28209</td>\n      <td>https://app.intercom.com/a/apps/ijd0po3e/inbox...</td>\n      <td>None</td>\n      <td>Closed</td>\n      <td>product support [not urgent]</td>\n      <td>2023-11-08 15:18:51</td>\n      <td>2023-11-08 21:39:31</td>\n      <td>2023-11-08 16:09:17</td>\n      <td>Dublin</td>\n      <td>Inbound</td>\n      <td>...</td>\n      <td>5729911.0</td>\n      <td>English</td>\n      <td>None</td>\n      <td>None</td>\n      <td>None</td>\n      <td>None</td>\n      <td>None</td>\n      <td>Customer ticket</td>\n      <td>None</td>\n      <td>Suspended Account</td>\n    </tr>\n    <tr>\n      <th>...</th>\n      <td>...</td>\n      <td>...</td>\n      <td>...</td>\n      <td>...</td>\n      <td>...</td>\n      <td>...</td>\n      <td>...</td>\n      <td>...</td>\n      <td>...</td>\n      <td>...</td>\n      <td>...</td>\n      <td>...</td>\n      <td>...</td>\n      <td>...</td>\n      <td>...</td>\n      <td>...</td>\n      <td>...</td>\n      <td>...</td>\n      <td>...</td>\n      <td>...</td>\n      <td>...</td>\n    </tr>\n    <tr>\n      <th>1887</th>\n      <td>33658</td>\n      <td>https://app.intercom.com/a/apps/ijd0po3e/inbox...</td>\n      <td>None</td>\n      <td>Closed</td>\n      <td>None</td>\n      <td>2024-03-20 10:05:21</td>\n      <td>2024-03-20 10:25:38</td>\n      <td>2024-03-20 10:25:38</td>\n      <td>Dublin</td>\n      <td>Outbound</td>\n      <td>...</td>\n      <td>NaN</td>\n      <td>None</td>\n      <td>None</td>\n      <td>None</td>\n      <td>None</td>\n      <td>None</td>\n      <td>None</td>\n      <td>None</td>\n      <td>None</td>\n      <td>None</td>\n    </tr>\n    <tr>\n      <th>1888</th>\n      <td>33716</td>\n      <td>https://app.intercom.com/a/apps/ijd0po3e/inbox...</td>\n      <td>Deletion of Account</td>\n      <td>Closed</td>\n      <td>None</td>\n      <td>2024-03-26 07:47:36</td>\n      <td>2024-03-26 10:48:36</td>\n      <td>2024-03-26 10:48:36</td>\n      <td>Dublin</td>\n      <td>Inbound</td>\n      <td>...</td>\n      <td>NaN</td>\n      <td>None</td>\n      <td>None</td>\n      <td>None</td>\n      <td>None</td>\n      <td>None</td>\n      <td>None</td>\n      <td>None</td>\n      <td>None</td>\n      <td>None</td>\n    </tr>\n    <tr>\n      <th>1889</th>\n      <td>33757</td>\n      <td>https://app.intercom.com/a/apps/ijd0po3e/inbox...</td>\n      <td>Would like to delete account</td>\n      <td>Closed</td>\n      <td>None</td>\n      <td>2024-03-29 04:15:46</td>\n      <td>2024-04-02 12:37:15</td>\n      <td>2024-04-02 10:43:09</td>\n      <td>Dublin</td>\n      <td>Inbound</td>\n      <td>...</td>\n      <td>5729911.0</td>\n      <td>English</td>\n      <td>None</td>\n      <td>None</td>\n      <td>None</td>\n      <td>None</td>\n      <td>None</td>\n      <td>Customer ticket</td>\n      <td>None</td>\n      <td>Low</td>\n    </tr>\n    <tr>\n      <th>1890</th>\n      <td>33769</td>\n      <td>https://app.intercom.com/a/apps/ijd0po3e/inbox...</td>\n      <td>None</td>\n      <td>Closed</td>\n      <td>None</td>\n      <td>2024-03-31 10:27:11</td>\n      <td>2024-04-02 08:53:34</td>\n      <td>2024-04-02 08:53:34</td>\n      <td>Dublin</td>\n      <td>Inbound</td>\n      <td>...</td>\n      <td>NaN</td>\n      <td>English</td>\n      <td>None</td>\n      <td>None</td>\n      <td>None</td>\n      <td>None</td>\n      <td>None</td>\n      <td>None</td>\n      <td>None</td>\n      <td>None</td>\n    </tr>\n    <tr>\n      <th>1891</th>\n      <td>33811</td>\n      <td>https://app.intercom.com/a/apps/ijd0po3e/inbox...</td>\n      <td>None</td>\n      <td>Closed</td>\n      <td>None</td>\n      <td>2024-04-03 19:51:53</td>\n      <td>2024-04-04 08:51:52</td>\n      <td>2024-04-04 08:51:52</td>\n      <td>Dublin</td>\n      <td>Inbound</td>\n      <td>...</td>\n      <td>NaN</td>\n      <td>English</td>\n      <td>None</td>\n      <td>None</td>\n      <td>None</td>\n      <td>None</td>\n      <td>None</td>\n      <td>None</td>\n      <td>None</td>\n      <td>None</td>\n    </tr>\n  </tbody>\n</table>\n<p>1892 rows × 53 columns</p>\n</div>"
          },
          "metadata": {}
        }
      ],
      "outputs_reference": null,
      "content_dependencies": null
    },
    {
      "cell_type": "markdown",
      "source": "<a style='text-decoration:none;line-height:16px;display:flex;color:#5B5B62;padding:10px;justify-content:end;' href='https://deepnote.com?utm_source=created-in-deepnote-cell&projectId=d73dcddb-7cbc-4200-8282-4421e85df766' target=\"_blank\">\n<img alt='Created in deepnote.com' style='display:inline;max-height:16px;margin:0px;margin-right:7.5px;' src='data:image/svg+xml;base64,PD94bWwgdmVyc2lvbj0iMS4wIiBlbmNvZGluZz0iVVRGLTgiPz4KPHN2ZyB3aWR0aD0iODBweCIgaGVpZ2h0PSI4MHB4IiB2aWV3Qm94PSIwIDAgODAgODAiIHZlcnNpb249IjEuMSIgeG1sbnM9Imh0dHA6Ly93d3cudzMub3JnLzIwMDAvc3ZnIiB4bWxuczp4bGluaz0iaHR0cDovL3d3dy53My5vcmcvMTk5OS94bGluayI+CiAgICA8IS0tIEdlbmVyYXRvcjogU2tldGNoIDU0LjEgKDc2NDkwKSAtIGh0dHBzOi8vc2tldGNoYXBwLmNvbSAtLT4KICAgIDx0aXRsZT5Hcm91cCAzPC90aXRsZT4KICAgIDxkZXNjPkNyZWF0ZWQgd2l0aCBTa2V0Y2guPC9kZXNjPgogICAgPGcgaWQ9IkxhbmRpbmciIHN0cm9rZT0ibm9uZSIgc3Ryb2tlLXdpZHRoPSIxIiBmaWxsPSJub25lIiBmaWxsLXJ1bGU9ImV2ZW5vZGQiPgogICAgICAgIDxnIGlkPSJBcnRib2FyZCIgdHJhbnNmb3JtPSJ0cmFuc2xhdGUoLTEyMzUuMDAwMDAwLCAtNzkuMDAwMDAwKSI+CiAgICAgICAgICAgIDxnIGlkPSJHcm91cC0zIiB0cmFuc2Zvcm09InRyYW5zbGF0ZSgxMjM1LjAwMDAwMCwgNzkuMDAwMDAwKSI+CiAgICAgICAgICAgICAgICA8cG9seWdvbiBpZD0iUGF0aC0yMCIgZmlsbD0iIzAyNjVCNCIgcG9pbnRzPSIyLjM3NjIzNzYyIDgwIDM4LjA0NzY2NjcgODAgNTcuODIxNzgyMiA3My44MDU3NTkyIDU3LjgyMTc4MjIgMzIuNzU5MjczOSAzOS4xNDAyMjc4IDMxLjY4MzE2ODMiPjwvcG9seWdvbj4KICAgICAgICAgICAgICAgIDxwYXRoIGQ9Ik0zNS4wMDc3MTgsODAgQzQyLjkwNjIwMDcsNzYuNDU0OTM1OCA0Ny41NjQ5MTY3LDcxLjU0MjI2NzEgNDguOTgzODY2LDY1LjI2MTk5MzkgQzUxLjExMjI4OTksNTUuODQxNTg0MiA0MS42NzcxNzk1LDQ5LjIxMjIyODQgMjUuNjIzOTg0Niw0OS4yMTIyMjg0IEMyNS40ODQ5Mjg5LDQ5LjEyNjg0NDggMjkuODI2MTI5Niw0My4yODM4MjQ4IDM4LjY0NzU4NjksMzEuNjgzMTY4MyBMNzIuODcxMjg3MSwzMi41NTQ0MjUgTDY1LjI4MDk3Myw2Ny42NzYzNDIxIEw1MS4xMTIyODk5LDc3LjM3NjE0NCBMMzUuMDA3NzE4LDgwIFoiIGlkPSJQYXRoLTIyIiBmaWxsPSIjMDAyODY4Ij48L3BhdGg+CiAgICAgICAgICAgICAgICA8cGF0aCBkPSJNMCwzNy43MzA0NDA1IEwyNy4xMTQ1MzcsMC4yNTcxMTE0MzYgQzYyLjM3MTUxMjMsLTEuOTkwNzE3MDEgODAsMTAuNTAwMzkyNyA4MCwzNy43MzA0NDA1IEM4MCw2NC45NjA0ODgyIDY0Ljc3NjUwMzgsNzkuMDUwMzQxNCAzNC4zMjk1MTEzLDgwIEM0Ny4wNTUzNDg5LDc3LjU2NzA4MDggNTMuNDE4MjY3Nyw3MC4zMTM2MTAzIDUzLjQxODI2NzcsNTguMjM5NTg4NSBDNTMuNDE4MjY3Nyw0MC4xMjg1NTU3IDM2LjMwMzk1NDQsMzcuNzMwNDQwNSAyNS4yMjc0MTcsMzcuNzMwNDQwNSBDMTcuODQzMDU4NiwzNy43MzA0NDA1IDkuNDMzOTE5NjYsMzcuNzMwNDQwNSAwLDM3LjczMDQ0MDUgWiIgaWQ9IlBhdGgtMTkiIGZpbGw9IiMzNzkzRUYiPjwvcGF0aD4KICAgICAgICAgICAgPC9nPgogICAgICAgIDwvZz4KICAgIDwvZz4KPC9zdmc+' > </img>\nCreated in <span style='font-weight:600;margin-left:4px;'>Deepnote</span></a>",
      "metadata": {
        "created_in_deepnote_cell": true,
        "deepnote_cell_type": "markdown"
      }
    }
  ],
  "nbformat": 4,
  "nbformat_minor": 0,
  "metadata": {
    "deepnote_persisted_session": {
      "createdAt": "2024-04-18T09:00:42.538Z"
    },
    "deepnote_notebook_id": "aaed8ebfcfb340799dfb1bd9a1d00a74"
  }
}