{
  "cells": [
    {
      "cell_type": "code",
      "source": "",
      "metadata": {
        "cell_id": "08bb0ba78ab94d77b335af88599dba02",
        "deepnote_cell_type": "code"
      },
      "outputs": [],
      "outputs_reference": null,
      "execution_count": null,
      "block_group": "08bb0ba78ab94d77b335af88599dba02",
      "content_dependencies": null
    },
    {
      "cell_type": "code",
      "source": "df_1 = _deepnote_execute_sql('SELECT *\\nFROM \\'tickets_self.csv\\'', 'SQL_DEEPNOTE_DATAFRAME_SQL', audit_sql_comment='', sql_cache_mode='cache_disabled')\ndf_1",
      "metadata": {
        "source_hash": "62b3256f",
        "execution_start": 1713428910751,
        "execution_millis": 1529,
        "sql_integration_id": "deepnote-dataframe-sql",
        "deepnote_variable_name": "df_1",
        "deepnote_to_be_reexecuted": false,
        "cell_id": "ce7720bdcef549549e9e11626a1e23cc",
        "deepnote_cell_type": "sql",
        "deepnote_sql_source": "SELECT *\nFROM 'tickets_self.csv'"
      },
      "outputs": [
        {
          "output_type": "execute_result",
          "execution_count": 1,
          "data": {
            "application/vnd.deepnote.dataframe.v3+json": {
              "column_count": 41,
              "row_count": 1162,
              "columns": [
                {
                  "name": "ID",
                  "dtype": "float64",
                  "stats": {
                    "unique_count": 1147,
                    "nan_count": 15,
                    "min": "27825.0",
                    "max": "33847.0",
                    "histogram": [
                      {
                        "bin_start": 27825,
                        "bin_end": 28427.2,
                        "count": 382
                      },
                      {
                        "bin_start": 28427.2,
                        "bin_end": 29029.4,
                        "count": 75
                      },
                      {
                        "bin_start": 29029.4,
                        "bin_end": 29631.6,
                        "count": 242
                      },
                      {
                        "bin_start": 29631.6,
                        "bin_end": 30233.8,
                        "count": 193
                      },
                      {
                        "bin_start": 30233.8,
                        "bin_end": 30836,
                        "count": 5
                      },
                      {
                        "bin_start": 30836,
                        "bin_end": 31438.2,
                        "count": 1
                      },
                      {
                        "bin_start": 31438.2,
                        "bin_end": 32040.4,
                        "count": 2
                      },
                      {
                        "bin_start": 32040.4,
                        "bin_end": 32642.6,
                        "count": 3
                      },
                      {
                        "bin_start": 32642.6,
                        "bin_end": 33244.8,
                        "count": 49
                      },
                      {
                        "bin_start": 33244.8,
                        "bin_end": 33847,
                        "count": 195
                      }
                    ]
                  }
                },
                {
                  "name": "Ticket URL",
                  "dtype": "object",
                  "stats": {
                    "unique_count": 1147,
                    "nan_count": 15,
                    "categories": [
                      {
                        "name": "https://app.intercom.com/a/apps/ijd0po3e/inbox/inbox/conversation/27902",
                        "count": 1
                      },
                      {
                        "name": "1146 others",
                        "count": 1146
                      },
                      {
                        "name": "Missing",
                        "count": 15
                      }
                    ]
                  }
                },
                {
                  "name": "Ticket ID",
                  "dtype": "float64",
                  "stats": {
                    "unique_count": 1147,
                    "nan_count": 15,
                    "min": "2843.0",
                    "max": "4008.0",
                    "histogram": [
                      {
                        "bin_start": 2843,
                        "bin_end": 2959.5,
                        "count": 113
                      },
                      {
                        "bin_start": 2959.5,
                        "bin_end": 3076,
                        "count": 113
                      },
                      {
                        "bin_start": 3076,
                        "bin_end": 3192.5,
                        "count": 115
                      },
                      {
                        "bin_start": 3192.5,
                        "bin_end": 3309,
                        "count": 114
                      },
                      {
                        "bin_start": 3309,
                        "bin_end": 3425.5,
                        "count": 116
                      },
                      {
                        "bin_start": 3425.5,
                        "bin_end": 3542,
                        "count": 111
                      },
                      {
                        "bin_start": 3542,
                        "bin_end": 3658.5,
                        "count": 117
                      },
                      {
                        "bin_start": 3658.5,
                        "bin_end": 3775,
                        "count": 115
                      },
                      {
                        "bin_start": 3775,
                        "bin_end": 3891.5,
                        "count": 117
                      },
                      {
                        "bin_start": 3891.5,
                        "bin_end": 4008,
                        "count": 116
                      }
                    ]
                  }
                },
                {
                  "name": "Ticket title",
                  "dtype": "object",
                  "stats": {
                    "unique_count": 762,
                    "nan_count": 15,
                    "categories": [
                      {
                        "name": "Investigation",
                        "count": 96
                      },
                      {
                        "name": "761 others",
                        "count": 1051
                      },
                      {
                        "name": "Missing",
                        "count": 15
                      }
                    ]
                  }
                },
                {
                  "name": "Ticket description",
                  "dtype": "object",
                  "stats": {
                    "unique_count": 815,
                    "nan_count": 148,
                    "categories": [
                      {
                        "name": "When a customer has an issue we need to investigate",
                        "count": 83
                      },
                      {
                        "name": "814 others",
                        "count": 931
                      },
                      {
                        "name": "Missing",
                        "count": 148
                      }
                    ]
                  }
                },
                {
                  "name": "Ticket status",
                  "dtype": "object",
                  "stats": {
                    "unique_count": 2,
                    "nan_count": 15,
                    "categories": [
                      {
                        "name": "Closed",
                        "count": 1142
                      },
                      {
                        "name": "Open",
                        "count": 5
                      },
                      {
                        "name": "Missing",
                        "count": 15
                      }
                    ]
                  }
                },
                {
                  "name": "Ticket state",
                  "dtype": "object",
                  "stats": {
                    "unique_count": 4,
                    "nan_count": 15,
                    "categories": [
                      {
                        "name": "resolved",
                        "count": 575
                      },
                      {
                        "name": "3 others",
                        "count": 572
                      },
                      {
                        "name": "Missing",
                        "count": 15
                      }
                    ]
                  }
                },
                {
                  "name": "Ticket category",
                  "dtype": "object",
                  "stats": {
                    "unique_count": 2,
                    "nan_count": 15,
                    "categories": [
                      {
                        "name": "Customer",
                        "count": 1143
                      },
                      {
                        "name": "Tracker",
                        "count": 4
                      },
                      {
                        "name": "Missing",
                        "count": 15
                      }
                    ]
                  }
                },
                {
                  "name": "Shared with customer",
                  "dtype": "object",
                  "stats": {
                    "unique_count": 2,
                    "nan_count": 15,
                    "categories": [
                      {
                        "name": "True",
                        "count": 1143
                      },
                      {
                        "name": "False",
                        "count": 4
                      },
                      {
                        "name": "Missing",
                        "count": 15
                      }
                    ]
                  }
                },
                {
                  "name": "Ticket type ID",
                  "dtype": "float64",
                  "stats": {
                    "unique_count": 13,
                    "nan_count": 15,
                    "min": "3.0",
                    "max": "16.0",
                    "histogram": [
                      {
                        "bin_start": 3,
                        "bin_end": 4.3,
                        "count": 338
                      },
                      {
                        "bin_start": 4.3,
                        "bin_end": 5.6,
                        "count": 59
                      },
                      {
                        "bin_start": 5.6,
                        "bin_end": 6.9,
                        "count": 12
                      },
                      {
                        "bin_start": 6.9,
                        "bin_end": 8.2,
                        "count": 332
                      },
                      {
                        "bin_start": 8.2,
                        "bin_end": 9.5,
                        "count": 0
                      },
                      {
                        "bin_start": 9.5,
                        "bin_end": 10.8,
                        "count": 2
                      },
                      {
                        "bin_start": 10.8,
                        "bin_end": 12.1,
                        "count": 199
                      },
                      {
                        "bin_start": 12.1,
                        "bin_end": 13.4,
                        "count": 96
                      },
                      {
                        "bin_start": 13.4,
                        "bin_end": 14.700000000000001,
                        "count": 92
                      },
                      {
                        "bin_start": 14.700000000000001,
                        "bin_end": 16,
                        "count": 17
                      }
                    ]
                  }
                },
                {
                  "name": "Ticket type name",
                  "dtype": "object",
                  "stats": {
                    "unique_count": 13,
                    "nan_count": 15,
                    "categories": [
                      {
                        "name": "Investigation",
                        "count": 281
                      },
                      {
                        "name": "12 others",
                        "count": 866
                      },
                      {
                        "name": "Missing",
                        "count": 15
                      }
                    ]
                  }
                },
                {
                  "name": "Created from",
                  "dtype": "object",
                  "stats": {
                    "unique_count": 2,
                    "nan_count": 15,
                    "categories": [
                      {
                        "name": "converted_to_ticket",
                        "count": 1143
                      },
                      {
                        "name": "linked_ticket",
                        "count": 4
                      },
                      {
                        "name": "Missing",
                        "count": 15
                      }
                    ]
                  }
                },
                {
                  "name": "Created at",
                  "dtype": "datetime64[us]",
                  "stats": {
                    "unique_count": 1162,
                    "nan_count": 0,
                    "min": "2023-10-01 03:19:16",
                    "max": "2024-04-09 18:07:55",
                    "histogram": [
                      {
                        "bin_start": 1696130356000000,
                        "bin_end": 1697785927900000,
                        "count": 121
                      },
                      {
                        "bin_start": 1697785927900000,
                        "bin_end": 1699441499800000,
                        "count": 131
                      },
                      {
                        "bin_start": 1699441499800000,
                        "bin_end": 1701097071700000,
                        "count": 144
                      },
                      {
                        "bin_start": 1701097071700000,
                        "bin_end": 1702752643600000,
                        "count": 132
                      },
                      {
                        "bin_start": 1702752643600000,
                        "bin_end": 1704408215500000,
                        "count": 74
                      },
                      {
                        "bin_start": 1704408215500000,
                        "bin_end": 1706063787400000,
                        "count": 104
                      },
                      {
                        "bin_start": 1706063787400000,
                        "bin_end": 1707719359300000,
                        "count": 114
                      },
                      {
                        "bin_start": 1707719359300000,
                        "bin_end": 1709374931200000,
                        "count": 144
                      },
                      {
                        "bin_start": 1709374931200000,
                        "bin_end": 1711030503100000,
                        "count": 99
                      },
                      {
                        "bin_start": 1711030503100000,
                        "bin_end": 1712686075000000,
                        "count": 99
                      }
                    ]
                  }
                },
                {
                  "name": "Last updated at",
                  "dtype": "datetime64[us]",
                  "stats": {
                    "unique_count": 1161,
                    "nan_count": 0,
                    "min": "2023-10-03 11:19:40",
                    "max": "2024-04-10 05:01:54",
                    "histogram": [
                      {
                        "bin_start": 1696331980000000,
                        "bin_end": 1697971313400000,
                        "count": 107
                      },
                      {
                        "bin_start": 1697971313400000,
                        "bin_end": 1699610646800000,
                        "count": 131
                      },
                      {
                        "bin_start": 1699610646800000,
                        "bin_end": 1701249980200000,
                        "count": 143
                      },
                      {
                        "bin_start": 1701249980200000,
                        "bin_end": 1702889313600000,
                        "count": 117
                      },
                      {
                        "bin_start": 1702889313600000,
                        "bin_end": 1704528647000000,
                        "count": 71
                      },
                      {
                        "bin_start": 1704528647000000,
                        "bin_end": 1706167980400000,
                        "count": 106
                      },
                      {
                        "bin_start": 1706167980400000,
                        "bin_end": 1707807313800000,
                        "count": 125
                      },
                      {
                        "bin_start": 1707807313800000,
                        "bin_end": 1709446647200000,
                        "count": 136
                      },
                      {
                        "bin_start": 1709446647200000,
                        "bin_end": 1711085980600000,
                        "count": 107
                      },
                      {
                        "bin_start": 1711085980600000,
                        "bin_end": 1712725314000000,
                        "count": 119
                      }
                    ]
                  }
                },
                {
                  "name": "Last resolved at",
                  "dtype": "datetime64[us]",
                  "stats": {
                    "unique_count": 575,
                    "nan_count": 587,
                    "min": "2023-10-03 11:14:10",
                    "max": "2024-04-09 18:44:43",
                    "histogram": [
                      {
                        "bin_start": 1696331650000000,
                        "bin_end": 1697967313300000,
                        "count": 52
                      },
                      {
                        "bin_start": 1697967313300000,
                        "bin_end": 1699602976600000,
                        "count": 56
                      },
                      {
                        "bin_start": 1699602976600000,
                        "bin_end": 1701238639900000,
                        "count": 74
                      },
                      {
                        "bin_start": 1701238639900000,
                        "bin_end": 1702874303200000,
                        "count": 46
                      },
                      {
                        "bin_start": 1702874303200000,
                        "bin_end": 1704509966500000,
                        "count": 46
                      },
                      {
                        "bin_start": 1704509966500000,
                        "bin_end": 1706145629800000,
                        "count": 49
                      },
                      {
                        "bin_start": 1706145629800000,
                        "bin_end": 1707781293100000,
                        "count": 52
                      },
                      {
                        "bin_start": 1707781293100000,
                        "bin_end": 1709416956400000,
                        "count": 77
                      },
                      {
                        "bin_start": 1709416956400000,
                        "bin_end": 1711052619700000,
                        "count": 61
                      },
                      {
                        "bin_start": 1711052619700000,
                        "bin_end": 1712688283000000,
                        "count": 62
                      }
                    ]
                  }
                },
                {
                  "name": "Time Zone",
                  "dtype": "object",
                  "stats": {
                    "unique_count": 1,
                    "nan_count": 0,
                    "categories": [
                      {
                        "name": "Dublin",
                        "count": 1162
                      }
                    ]
                  }
                },
                {
                  "name": "Companies (ID)",
                  "dtype": "object",
                  "stats": {
                    "unique_count": 813,
                    "nan_count": 123,
                    "categories": [
                      {
                        "name": "8b0ebf6d-5672-4a8b-a488-2dd220383dd3, 9ab38552-1777-4892-a8e7-f9c191ccb8b7",
                        "count": 11
                      },
                      {
                        "name": "812 others",
                        "count": 1028
                      },
                      {
                        "name": "Missing",
                        "count": 123
                      }
                    ]
                  }
                },
                {
                  "name": "Companies (name)",
                  "dtype": "object",
                  "stats": {
                    "unique_count": 800,
                    "nan_count": 123,
                    "categories": [
                      {
                        "name": "Deepnote, Insightful Data Technologies",
                        "count": 11
                      },
                      {
                        "name": "799 others",
                        "count": 1028
                      },
                      {
                        "name": "Missing",
                        "count": 123
                      }
                    ]
                  }
                },
                {
                  "name": "Company tags",
                  "dtype": "object",
                  "stats": {
                    "unique_count": 0,
                    "nan_count": 1162,
                    "categories": [
                      {
                        "name": "Missing",
                        "count": 1162
                      }
                    ]
                  }
                },
                {
                  "name": "Email",
                  "dtype": "object",
                  "stats": {
                    "unique_count": 911,
                    "nan_count": 12,
                    "categories": [
                      {
                        "name": "scrambled",
                        "count": 13
                      },
                      {
                        "name": "910 others",
                        "count": 1137
                      },
                      {
                        "name": "Missing",
                        "count": 12
                      }
                    ]
                  }
                },
                {
                  "name": "Location",
                  "dtype": "object",
                  "stats": {
                    "unique_count": 506,
                    "nan_count": 91,
                    "categories": [
                      {
                        "name": "New York, United States",
                        "count": 25
                      },
                      {
                        "name": "505 others",
                        "count": 1046
                      },
                      {
                        "name": "Missing",
                        "count": 91
                      }
                    ]
                  }
                },
                {
                  "name": "Name",
                  "dtype": "object",
                  "stats": {
                    "unique_count": 882,
                    "nan_count": 46,
                    "categories": [
                      {
                        "name": "Chanan Zevin",
                        "count": 11
                      },
                      {
                        "name": "881 others",
                        "count": 1105
                      },
                      {
                        "name": "Missing",
                        "count": 46
                      }
                    ]
                  }
                },
                {
                  "name": "Type",
                  "dtype": "object",
                  "stats": {
                    "unique_count": 2,
                    "nan_count": 4,
                    "categories": [
                      {
                        "name": "User",
                        "count": 1062
                      },
                      {
                        "name": "Lead",
                        "count": 96
                      },
                      {
                        "name": "Missing",
                        "count": 4
                      }
                    ]
                  }
                },
                {
                  "name": "Participated (ID)",
                  "dtype": "object",
                  "stats": {
                    "unique_count": 928,
                    "nan_count": 17,
                    "categories": [
                      {
                        "name": "514cd911-4489-44fa-a247-dcf56a309ced",
                        "count": 10
                      },
                      {
                        "name": "927 others",
                        "count": 1135
                      },
                      {
                        "name": "Missing",
                        "count": 17
                      }
                    ]
                  }
                },
                {
                  "name": "Participated (name)",
                  "dtype": "object",
                  "stats": {
                    "unique_count": 890,
                    "nan_count": 45,
                    "categories": [
                      {
                        "name": "MContigo",
                        "count": 10
                      },
                      {
                        "name": "889 others",
                        "count": 1107
                      },
                      {
                        "name": "Missing",
                        "count": 45
                      }
                    ]
                  }
                },
                {
                  "name": "Participated (email)",
                  "dtype": "object",
                  "stats": {
                    "unique_count": 917,
                    "nan_count": 12,
                    "categories": [
                      {
                        "name": "scrambled",
                        "count": 13
                      },
                      {
                        "name": "916 others",
                        "count": 1137
                      },
                      {
                        "name": "Missing",
                        "count": 12
                      }
                    ]
                  }
                },
                {
                  "name": "People tags",
                  "dtype": "object",
                  "stats": {
                    "unique_count": 1,
                    "nan_count": 1161,
                    "categories": [
                      {
                        "name": "Premier Customer",
                        "count": 1
                      },
                      {
                        "name": "Missing",
                        "count": 1161
                      }
                    ]
                  }
                },
                {
                  "name": "User ID",
                  "dtype": "object",
                  "stats": {
                    "unique_count": 922,
                    "nan_count": 17,
                    "categories": [
                      {
                        "name": "b75c3278-1bf4-44a0-a071-6fab5f5848e7",
                        "count": 11
                      },
                      {
                        "name": "921 others",
                        "count": 1134
                      },
                      {
                        "name": "Missing",
                        "count": 17
                      }
                    ]
                  }
                },
                {
                  "name": "Assigned to (ID)",
                  "dtype": "float64",
                  "stats": {
                    "unique_count": 3,
                    "nan_count": 3,
                    "min": "5625167.0",
                    "max": "6648831.0",
                    "histogram": [
                      {
                        "bin_start": 5625167,
                        "bin_end": 5727533.4,
                        "count": 1
                      },
                      {
                        "bin_start": 5727533.4,
                        "bin_end": 5829899.8,
                        "count": 1156
                      },
                      {
                        "bin_start": 5829899.8,
                        "bin_end": 5932266.2,
                        "count": 0
                      },
                      {
                        "bin_start": 5932266.2,
                        "bin_end": 6034632.6,
                        "count": 0
                      },
                      {
                        "bin_start": 6034632.6,
                        "bin_end": 6136999,
                        "count": 0
                      },
                      {
                        "bin_start": 6136999,
                        "bin_end": 6239365.4,
                        "count": 0
                      },
                      {
                        "bin_start": 6239365.4,
                        "bin_end": 6341731.8,
                        "count": 0
                      },
                      {
                        "bin_start": 6341731.8,
                        "bin_end": 6444098.2,
                        "count": 0
                      },
                      {
                        "bin_start": 6444098.2,
                        "bin_end": 6546464.6,
                        "count": 0
                      },
                      {
                        "bin_start": 6546464.6,
                        "bin_end": 6648831,
                        "count": 2
                      }
                    ]
                  }
                },
                {
                  "name": "Assigned to (name)",
                  "dtype": "object",
                  "stats": {
                    "unique_count": 3,
                    "nan_count": 3,
                    "categories": [
                      {
                        "name": "Dave",
                        "count": 1156
                      },
                      {
                        "name": "2 others",
                        "count": 3
                      },
                      {
                        "name": "Missing",
                        "count": 3
                      }
                    ]
                  }
                },
                {
                  "name": "Team assigned to (ID)",
                  "dtype": "float64",
                  "stats": {
                    "unique_count": 1,
                    "nan_count": 1146,
                    "min": "5794293.0",
                    "max": "5794293.0",
                    "histogram": [
                      {
                        "bin_start": 5794292.5,
                        "bin_end": 5794292.6,
                        "count": 0
                      },
                      {
                        "bin_start": 5794292.6,
                        "bin_end": 5794292.7,
                        "count": 0
                      },
                      {
                        "bin_start": 5794292.7,
                        "bin_end": 5794292.8,
                        "count": 0
                      },
                      {
                        "bin_start": 5794292.8,
                        "bin_end": 5794292.9,
                        "count": 0
                      },
                      {
                        "bin_start": 5794292.9,
                        "bin_end": 5794293,
                        "count": 0
                      },
                      {
                        "bin_start": 5794293,
                        "bin_end": 5794293.1,
                        "count": 16
                      },
                      {
                        "bin_start": 5794293.1,
                        "bin_end": 5794293.2,
                        "count": 0
                      },
                      {
                        "bin_start": 5794293.2,
                        "bin_end": 5794293.3,
                        "count": 0
                      },
                      {
                        "bin_start": 5794293.3,
                        "bin_end": 5794293.4,
                        "count": 0
                      },
                      {
                        "bin_start": 5794293.4,
                        "bin_end": 5794293.5,
                        "count": 0
                      }
                    ]
                  }
                },
                {
                  "name": "Team assigned to (name)",
                  "dtype": "object",
                  "stats": {
                    "unique_count": 1,
                    "nan_count": 1146,
                    "categories": [
                      {
                        "name": "Sales",
                        "count": 16
                      },
                      {
                        "name": "Missing",
                        "count": 1146
                      }
                    ]
                  }
                },
                {
                  "name": "Created by (ID)",
                  "dtype": "float64",
                  "stats": {
                    "unique_count": 2,
                    "nan_count": 15,
                    "min": "5729911.0",
                    "max": "6648831.0",
                    "histogram": [
                      {
                        "bin_start": 5729911,
                        "bin_end": 5821803,
                        "count": 1146
                      },
                      {
                        "bin_start": 5821803,
                        "bin_end": 5913695,
                        "count": 0
                      },
                      {
                        "bin_start": 5913695,
                        "bin_end": 6005587,
                        "count": 0
                      },
                      {
                        "bin_start": 6005587,
                        "bin_end": 6097479,
                        "count": 0
                      },
                      {
                        "bin_start": 6097479,
                        "bin_end": 6189371,
                        "count": 0
                      },
                      {
                        "bin_start": 6189371,
                        "bin_end": 6281263,
                        "count": 0
                      },
                      {
                        "bin_start": 6281263,
                        "bin_end": 6373155,
                        "count": 0
                      },
                      {
                        "bin_start": 6373155,
                        "bin_end": 6465047,
                        "count": 0
                      },
                      {
                        "bin_start": 6465047,
                        "bin_end": 6556939,
                        "count": 0
                      },
                      {
                        "bin_start": 6556939,
                        "bin_end": 6648831,
                        "count": 1
                      }
                    ]
                  }
                },
                {
                  "name": "Created by (name)",
                  "dtype": "object",
                  "stats": {
                    "unique_count": 2,
                    "nan_count": 15,
                    "categories": [
                      {
                        "name": "Dave",
                        "count": 1146
                      },
                      {
                        "name": "Nicolas Bowles Roda",
                        "count": 1
                      },
                      {
                        "name": "Missing",
                        "count": 15
                      }
                    ]
                  }
                },
                {
                  "name": "Resolved by (ID)",
                  "dtype": "float64",
                  "stats": {
                    "unique_count": 2,
                    "nan_count": 587,
                    "min": "5729911.0",
                    "max": "6648831.0",
                    "histogram": [
                      {
                        "bin_start": 5729911,
                        "bin_end": 5821803,
                        "count": 574
                      },
                      {
                        "bin_start": 5821803,
                        "bin_end": 5913695,
                        "count": 0
                      },
                      {
                        "bin_start": 5913695,
                        "bin_end": 6005587,
                        "count": 0
                      },
                      {
                        "bin_start": 6005587,
                        "bin_end": 6097479,
                        "count": 0
                      },
                      {
                        "bin_start": 6097479,
                        "bin_end": 6189371,
                        "count": 0
                      },
                      {
                        "bin_start": 6189371,
                        "bin_end": 6281263,
                        "count": 0
                      },
                      {
                        "bin_start": 6281263,
                        "bin_end": 6373155,
                        "count": 0
                      },
                      {
                        "bin_start": 6373155,
                        "bin_end": 6465047,
                        "count": 0
                      },
                      {
                        "bin_start": 6465047,
                        "bin_end": 6556939,
                        "count": 0
                      },
                      {
                        "bin_start": 6556939,
                        "bin_end": 6648831,
                        "count": 1
                      }
                    ]
                  }
                },
                {
                  "name": "Resolved by (name)",
                  "dtype": "object",
                  "stats": {
                    "unique_count": 2,
                    "nan_count": 587,
                    "categories": [
                      {
                        "name": "Dave",
                        "count": 574
                      },
                      {
                        "name": "Nicolas Bowles Roda",
                        "count": 1
                      },
                      {
                        "name": "Missing",
                        "count": 587
                      }
                    ]
                  }
                },
                {
                  "name": "Teammates participated",
                  "dtype": "object",
                  "stats": {
                    "unique_count": 6,
                    "nan_count": 9,
                    "categories": [
                      {
                        "name": "Dave",
                        "count": 1145
                      },
                      {
                        "name": "5 others",
                        "count": 8
                      },
                      {
                        "name": "Missing",
                        "count": 9
                      }
                    ]
                  }
                },
                {
                  "name": "Time to resolve (seconds)",
                  "dtype": "float64",
                  "stats": {
                    "unique_count": 564,
                    "nan_count": 587,
                    "min": "3.470548",
                    "max": "8883571.15488",
                    "histogram": [
                      {
                        "bin_start": 3.470548,
                        "bin_end": 888360.2389811999,
                        "count": 561
                      },
                      {
                        "bin_start": 888360.2389811999,
                        "bin_end": 1776717.0074143999,
                        "count": 7
                      },
                      {
                        "bin_start": 1776717.0074143999,
                        "bin_end": 2665073.7758476,
                        "count": 5
                      },
                      {
                        "bin_start": 2665073.7758476,
                        "bin_end": 3553430.5442808,
                        "count": 0
                      },
                      {
                        "bin_start": 3553430.5442808,
                        "bin_end": 4441787.312714,
                        "count": 0
                      },
                      {
                        "bin_start": 4441787.312714,
                        "bin_end": 5330144.0811471995,
                        "count": 1
                      },
                      {
                        "bin_start": 5330144.0811471995,
                        "bin_end": 6218500.8495804,
                        "count": 0
                      },
                      {
                        "bin_start": 6218500.8495804,
                        "bin_end": 7106857.6180136,
                        "count": 0
                      },
                      {
                        "bin_start": 7106857.6180136,
                        "bin_end": 7995214.3864468,
                        "count": 0
                      },
                      {
                        "bin_start": 7995214.3864468,
                        "bin_end": 8883571.15488,
                        "count": 1
                      }
                    ]
                  }
                },
                {
                  "name": "Time in submitted (seconds)",
                  "dtype": "float64",
                  "stats": {
                    "unique_count": 557,
                    "nan_count": 587,
                    "min": "2.400484",
                    "max": "8883571.15488",
                    "histogram": [
                      {
                        "bin_start": 2.400484,
                        "bin_end": 888359.2759236001,
                        "count": 571
                      },
                      {
                        "bin_start": 888359.2759236001,
                        "bin_end": 1776716.1513632003,
                        "count": 2
                      },
                      {
                        "bin_start": 1776716.1513632003,
                        "bin_end": 2665073.0268028,
                        "count": 1
                      },
                      {
                        "bin_start": 2665073.0268028,
                        "bin_end": 3553429.9022424,
                        "count": 0
                      },
                      {
                        "bin_start": 3553429.9022424,
                        "bin_end": 4441786.777682001,
                        "count": 0
                      },
                      {
                        "bin_start": 4441786.777682001,
                        "bin_end": 5330143.653121601,
                        "count": 0
                      },
                      {
                        "bin_start": 5330143.653121601,
                        "bin_end": 6218500.528561201,
                        "count": 0
                      },
                      {
                        "bin_start": 6218500.528561201,
                        "bin_end": 7106857.404000801,
                        "count": 0
                      },
                      {
                        "bin_start": 7106857.404000801,
                        "bin_end": 7995214.279440401,
                        "count": 0
                      },
                      {
                        "bin_start": 7995214.279440401,
                        "bin_end": 8883571.15488,
                        "count": 1
                      }
                    ]
                  }
                },
                {
                  "name": "Time in progress (seconds)",
                  "dtype": "float64",
                  "stats": {
                    "unique_count": 173,
                    "nan_count": 987,
                    "min": "1.824487",
                    "max": "1680156.99907",
                    "histogram": [
                      {
                        "bin_start": 1.824487,
                        "bin_end": 168017.3419453,
                        "count": 152
                      },
                      {
                        "bin_start": 168017.3419453,
                        "bin_end": 336032.8594036,
                        "count": 11
                      },
                      {
                        "bin_start": 336032.8594036,
                        "bin_end": 504048.3768619,
                        "count": 4
                      },
                      {
                        "bin_start": 504048.3768619,
                        "bin_end": 672063.8943202,
                        "count": 4
                      },
                      {
                        "bin_start": 672063.8943202,
                        "bin_end": 840079.4117785,
                        "count": 0
                      },
                      {
                        "bin_start": 840079.4117785,
                        "bin_end": 1008094.9292368,
                        "count": 2
                      },
                      {
                        "bin_start": 1008094.9292368,
                        "bin_end": 1176110.4466950998,
                        "count": 0
                      },
                      {
                        "bin_start": 1176110.4466950998,
                        "bin_end": 1344125.9641534,
                        "count": 1
                      },
                      {
                        "bin_start": 1344125.9641534,
                        "bin_end": 1512141.4816117,
                        "count": 0
                      },
                      {
                        "bin_start": 1512141.4816117,
                        "bin_end": 1680156.99907,
                        "count": 1
                      }
                    ]
                  }
                },
                {
                  "name": "Time in waiting on customer (seconds)",
                  "dtype": "object",
                  "stats": {
                    "unique_count": 151,
                    "nan_count": 1011,
                    "categories": [
                      {
                        "name": "94984.0",
                        "count": 1
                      },
                      {
                        "name": "150 others",
                        "count": 150
                      },
                      {
                        "name": "Missing",
                        "count": 1011
                      }
                    ]
                  }
                },
                {
                  "name": "_deepnote_index_column",
                  "dtype": "int64"
                }
              ],
              "rows": [
                {
                  "ID": 27902,
                  "Ticket URL": "https://app.intercom.com/a/apps/ijd0po3e/inbox/inbox/conversation/27902",
                  "Ticket ID": 2874,
                  "Ticket title": "Investigation",
                  "Ticket description": "Swap Emails",
                  "Ticket status": "Closed",
                  "Ticket state": "resolved",
                  "Ticket category": "Customer",
                  "Shared with customer": "True",
                  "Ticket type ID": 3,
                  "Ticket type name": "Investigation",
                  "Created from": "converted_to_ticket",
                  "Created at": "2023-10-08 23:55:15",
                  "Last updated at": "2023-10-10 12:31:28",
                  "Last resolved at": "2023-10-10 12:26:18",
                  "Time Zone": "Dublin",
                  "Companies (ID)": "ed618df2-ca06-472b-8bd6-09065f142acc",
                  "Companies (name)": "Shawn Shivdat",
                  "Company tags": "None",
                  "Email": "shawnshivdat@gmail.com",
                  "Location": "None",
                  "Name": "Shawn Shivdat",
                  "Type": "User",
                  "Participated (ID)": "df1b1c96-b16c-4548-bebe-f05c628e9a3d",
                  "Participated (name)": "Shawn Shivdat",
                  "Participated (email)": "shawnshivdat@gmail.com",
                  "People tags": "None",
                  "User ID": "df1b1c96-b16c-4548-bebe-f05c628e9a3d",
                  "Assigned to (ID)": 5729911,
                  "Assigned to (name)": "Dave",
                  "Team assigned to (ID)": "nan",
                  "Team assigned to (name)": "None",
                  "Created by (ID)": 5729911,
                  "Created by (name)": "Dave",
                  "Resolved by (ID)": 5729911,
                  "Resolved by (name)": "Dave",
                  "Teammates participated": "Dave",
                  "Time to resolve (seconds)": 96675,
                  "Time in submitted (seconds)": 1691,
                  "Time in progress (seconds)": "nan",
                  "Time in waiting on customer (seconds)": "94984.0",
                  "_deepnote_index_column": 0
                },
                {
                  "ID": 28118,
                  "Ticket URL": "https://app.intercom.com/a/apps/ijd0po3e/inbox/inbox/conversation/28118",
                  "Ticket ID": 3016,
                  "Ticket title": "Notebook Move Error",
                  "Ticket description": "Something went wrong when moving this notebook. Please, try again or contact our support. Give the team a way to reach you.",
                  "Ticket status": "Closed",
                  "Ticket state": "waiting_on_customer",
                  "Ticket category": "Customer",
                  "Shared with customer": "True",
                  "Ticket type ID": 3,
                  "Ticket type name": "Investigation",
                  "Created from": "converted_to_ticket",
                  "Created at": "2023-10-30 13:01:20",
                  "Last updated at": "2023-11-03 13:33:38",
                  "Last resolved at": "NaT",
                  "Time Zone": "Dublin",
                  "Companies (ID)": "None",
                  "Companies (name)": "None",
                  "Company tags": "None",
                  "Email": "sleep3r@icloud.com",
                  "Location": "Frankfurt am Main, Germany",
                  "Name": "None",
                  "Type": "Lead",
                  "Participated (ID)": "58d881db-e4ae-4f1f-a1df-cc402501c247",
                  "Participated (name)": "None",
                  "Participated (email)": "sleep3r@icloud.com",
                  "People tags": "None",
                  "User ID": "58d881db-e4ae-4f1f-a1df-cc402501c247",
                  "Assigned to (ID)": 5729911,
                  "Assigned to (name)": "Dave",
                  "Team assigned to (ID)": "nan",
                  "Team assigned to (name)": "None",
                  "Created by (ID)": 5729911,
                  "Created by (name)": "Dave",
                  "Resolved by (ID)": "nan",
                  "Resolved by (name)": "None",
                  "Teammates participated": "Dave",
                  "Time to resolve (seconds)": "nan",
                  "Time in submitted (seconds)": "nan",
                  "Time in progress (seconds)": "nan",
                  "Time in waiting on customer (seconds)": "None",
                  "_deepnote_index_column": 1
                },
                {
                  "ID": 28230,
                  "Ticket URL": "https://app.intercom.com/a/apps/ijd0po3e/inbox/inbox/conversation/28230",
                  "Ticket ID": 3117,
                  "Ticket title": "Machine boot taking more than 15 minutes",
                  "Ticket description": "Customer reported that their machine is taking more than 15 minutes to boot. On-call engineer has been alerted and is investigating the issue. Customer has been temporarily switched to a basic machine while the issue is being resolved. Please check if everything is back to normal for the customer. -Dave",
                  "Ticket status": "Closed",
                  "Ticket state": "resolved",
                  "Ticket category": "Customer",
                  "Shared with customer": "True",
                  "Ticket type ID": 3,
                  "Ticket type name": "Investigation",
                  "Created from": "converted_to_ticket",
                  "Created at": "2023-11-11 16:32:30",
                  "Last updated at": "2023-11-15 09:00:29",
                  "Last resolved at": "2023-11-15 08:57:02",
                  "Time Zone": "Dublin",
                  "Companies (ID)": "10cfba4d-c4ba-470c-becc-8d5902df8f2e, ce991235-3985-493a-90b0-1fb8d30f50c7",
                  "Companies (name)": "RAN 2023/2024, Elections20223",
                  "Company tags": "None",
                  "Email": "kamen.e.kanev@gmail.com",
                  "Location": "Haskovo, Bulgaria",
                  "Name": "Kamen Kanev",
                  "Type": "User",
                  "Participated (ID)": "1f92f71a-5cce-4328-8733-55ab92c94457",
                  "Participated (name)": "Kamen Kanev",
                  "Participated (email)": "kamen.e.kanev@gmail.com",
                  "People tags": "None",
                  "User ID": "1f92f71a-5cce-4328-8733-55ab92c94457",
                  "Assigned to (ID)": 5729911,
                  "Assigned to (name)": "Dave",
                  "Team assigned to (ID)": "nan",
                  "Team assigned to (name)": "None",
                  "Created by (ID)": 5729911,
                  "Created by (name)": "Dave",
                  "Resolved by (ID)": 5729911,
                  "Resolved by (name)": "Dave",
                  "Teammates participated": "Dave",
                  "Time to resolve (seconds)": 166357.552814,
                  "Time in submitted (seconds)": 6.806569,
                  "Time in progress (seconds)": "nan",
                  "Time in waiting on customer (seconds)": "166350.746245",
                  "_deepnote_index_column": 2
                },
                {
                  "ID": 28385,
                  "Ticket URL": "https://app.intercom.com/a/apps/ijd0po3e/inbox/inbox/conversation/28385",
                  "Ticket ID": 3205,
                  "Ticket title": "Education Request",
                  "Ticket description": "None",
                  "Ticket status": "Closed",
                  "Ticket state": "resolved",
                  "Ticket category": "Customer",
                  "Shared with customer": "True",
                  "Ticket type ID": 11,
                  "Ticket type name": "Education Request",
                  "Created from": "converted_to_ticket",
                  "Created at": "2023-11-22 18:10:14",
                  "Last updated at": "2023-11-22 18:22:02",
                  "Last resolved at": "2023-11-22 18:19:52",
                  "Time Zone": "Dublin",
                  "Companies (ID)": "ac8201a1-470a-4c77-afd0-2cc45bc229ff, 0b3b2c53-a7ad-441b-80f8-bf8350752305, 2ed1518a-973b-4145-bd62-1768b49956a8, d88573a8-1f76-410d-81bf-e0d65a047c67, 2785519d-2c3e-430b-9a10-a1754f2de37d, b58d8141-6691-43e8-ad76-0575b319c8b8, a928705f-1da7-4aa9-a64c-e5cdfb9b162e, 8cbcaf04-9850-4504-81e1-7c7f44f5787a",
                  "Companies (name)": "Manipulation, Drake, Underactuated, lujieyang, Mark Petersen, Russ Tedrake, Pang, mohammed's workspace",
                  "Company tags": "None",
                  "Email": "lujie@mit.edu",
                  "Location": "Cambridge, United States",
                  "Name": "lujieyang",
                  "Type": "User",
                  "Participated (ID)": "d9a872fd-e513-4c44-adaf-65b68b600466",
                  "Participated (name)": "lujieyang",
                  "Participated (email)": "lujie@mit.edu",
                  "People tags": "None",
                  "User ID": "d9a872fd-e513-4c44-adaf-65b68b600466",
                  "Assigned to (ID)": 5729911,
                  "Assigned to (name)": "Dave",
                  "Team assigned to (ID)": "nan",
                  "Team assigned to (name)": "None",
                  "Created by (ID)": 5729911,
                  "Created by (name)": "Dave",
                  "Resolved by (ID)": 5729911,
                  "Resolved by (name)": "Dave",
                  "Teammates participated": "Dave",
                  "Time to resolve (seconds)": 230.95036,
                  "Time in submitted (seconds)": 56.268023,
                  "Time in progress (seconds)": 40.515328,
                  "Time in waiting on customer (seconds)": "134.167009",
                  "_deepnote_index_column": 3
                },
                {
                  "ID": 27951,
                  "Ticket URL": "https://app.intercom.com/a/apps/ijd0po3e/inbox/inbox/conversation/27951",
                  "Ticket ID": 2907,
                  "Ticket title": "Investigation",
                  "Ticket description": "When a customer has an issue we need to investigate",
                  "Ticket status": "Closed",
                  "Ticket state": "resolved",
                  "Ticket category": "Customer",
                  "Shared with customer": "True",
                  "Ticket type ID": 3,
                  "Ticket type name": "Investigation",
                  "Created from": "converted_to_ticket",
                  "Created at": "2023-10-12 09:34:14",
                  "Last updated at": "2023-10-13 10:28:45",
                  "Last resolved at": "2023-10-13 10:26:11",
                  "Time Zone": "Dublin",
                  "Companies (ID)": "4ca00e1d-f4d4-44a2-bcfe-b2a17a031bc6, 60408d6e-80c2-4b98-8340-a16cd1e2017c, a7e96f20-e460-42b9-a151-df103c9ee96e, d54e4318-ab2f-495e-b28f-cf1eb7b0894f, e30878e0-87e9-4b7c-b044-c52c3f4dd72f",
                  "Companies (name)": "Allan Campopiano, ML4IoT 23, Personal workspace, ML4IoT 23 LABs, ML4IoT 24 LABs",
                  "Company tags": "None",
                  "Email": "valentino.peluso@polito.it",
                  "Location": "Turin, Italy",
                  "Name": "Valentino Peluso",
                  "Type": "User",
                  "Participated (ID)": "e8441c94-2efb-4494-95b9-a1bb5f71965e",
                  "Participated (name)": "Valentino Peluso",
                  "Participated (email)": "valentino.peluso@polito.it",
                  "People tags": "None",
                  "User ID": "e8441c94-2efb-4494-95b9-a1bb5f71965e",
                  "Assigned to (ID)": 5729911,
                  "Assigned to (name)": "Dave",
                  "Team assigned to (ID)": "nan",
                  "Team assigned to (name)": "None",
                  "Created by (ID)": 5729911,
                  "Created by (name)": "Dave",
                  "Resolved by (ID)": 5729911,
                  "Resolved by (name)": "Dave",
                  "Teammates participated": "Dave",
                  "Time to resolve (seconds)": 77696,
                  "Time in submitted (seconds)": 77696,
                  "Time in progress (seconds)": "nan",
                  "Time in waiting on customer (seconds)": "None",
                  "_deepnote_index_column": 4
                },
                {
                  "ID": 28133,
                  "Ticket URL": "https://app.intercom.com/a/apps/ijd0po3e/inbox/inbox/conversation/28133",
                  "Ticket ID": 3042,
                  "Ticket title": "Investigation",
                  "Ticket description": "When a customer has an issue we need to investigate",
                  "Ticket status": "Closed",
                  "Ticket state": "resolved",
                  "Ticket category": "Customer",
                  "Shared with customer": "True",
                  "Ticket type ID": 3,
                  "Ticket type name": "Investigation",
                  "Created from": "converted_to_ticket",
                  "Created at": "2023-10-31 21:44:21",
                  "Last updated at": "2023-11-06 17:18:30",
                  "Last resolved at": "2023-11-06 17:16:27",
                  "Time Zone": "Dublin",
                  "Companies (ID)": "71742312-24f2-4c10-9bf7-786d17280b92, 8b0ebf6d-5672-4a8b-a488-2dd220383dd3, 3e79b326-0cf6-4bff-8b41-99d9feb9b992, a5a2be8a-65ba-4071-81e7-03ae2c155b70, 7a5687e9-f767-4019-8a9c-d3bdbf4925e8, 07ba0841-dcd3-4e0c-a361-127697f4e73b",
                  "Companies (name)": "Deepnote Templates, Deepnote, Edison Insights, Franccesco Orozco, Deepnote Production, Osmo",
                  "Company tags": "None",
                  "Email": "marc@getosmo.io",
                  "Location": "Marseille, France",
                  "Name": "Marc Fiani",
                  "Type": "User",
                  "Participated (ID)": "8539d27d-8e99-400d-a9fe-0e282aa936c4",
                  "Participated (name)": "Marc Fiani",
                  "Participated (email)": "marc@getosmo.io",
                  "People tags": "None",
                  "User ID": "8539d27d-8e99-400d-a9fe-0e282aa936c4",
                  "Assigned to (ID)": 5729911,
                  "Assigned to (name)": "Dave",
                  "Team assigned to (ID)": "nan",
                  "Team assigned to (name)": "None",
                  "Created by (ID)": 5729911,
                  "Created by (name)": "Dave",
                  "Resolved by (ID)": 5729911,
                  "Resolved by (name)": "Dave",
                  "Teammates participated": "Dave",
                  "Time to resolve (seconds)": 462317.220694,
                  "Time in submitted (seconds)": 18427.616628,
                  "Time in progress (seconds)": 417140.894027,
                  "Time in waiting on customer (seconds)": "26748.710039",
                  "_deepnote_index_column": 5
                },
                {
                  "ID": 28154,
                  "Ticket URL": "https://app.intercom.com/a/apps/ijd0po3e/inbox/inbox/conversation/28154",
                  "Ticket ID": 3060,
                  "Ticket title": "Investigation",
                  "Ticket description": "When a customer has an issue we need to investigate",
                  "Ticket status": "Closed",
                  "Ticket state": "resolved",
                  "Ticket category": "Customer",
                  "Shared with customer": "True",
                  "Ticket type ID": 3,
                  "Ticket type name": "Investigation",
                  "Created from": "converted_to_ticket",
                  "Created at": "2023-11-03 14:21:04",
                  "Last updated at": "2023-11-06 16:54:03",
                  "Last resolved at": "2023-11-06 16:01:28",
                  "Time Zone": "Dublin",
                  "Companies (ID)": "3e79b326-0cf6-4bff-8b41-99d9feb9b992, dc3cff5d-b0ea-4c78-acb7-39379e0b315e, 2adc3044-57c5-4dca-8071-49a47e385242, cc7c8c54-4e3a-44e2-b80a-938830fd21ef",
                  "Companies (name)": "Edison Insights, Filip Stollar, changed_name, Winyield",
                  "Company tags": "None",
                  "Email": "tech@winyield.co",
                  "Location": "City of Westminster, United Kingdom",
                  "Name": "Gustav",
                  "Type": "User",
                  "Participated (ID)": "20367c5a-df63-4651-a8fa-ebf6074e9eae",
                  "Participated (name)": "Gustav",
                  "Participated (email)": "tech@winyield.co",
                  "People tags": "None",
                  "User ID": "20367c5a-df63-4651-a8fa-ebf6074e9eae",
                  "Assigned to (ID)": 5729911,
                  "Assigned to (name)": "Dave",
                  "Team assigned to (ID)": "nan",
                  "Team assigned to (name)": "None",
                  "Created by (ID)": 5729911,
                  "Created by (name)": "Dave",
                  "Resolved by (ID)": 5729911,
                  "Resolved by (name)": "Dave",
                  "Teammates participated": "Dave",
                  "Time to resolve (seconds)": 259924.032452,
                  "Time in submitted (seconds)": 259924.032452,
                  "Time in progress (seconds)": "nan",
                  "Time in waiting on customer (seconds)": "None",
                  "_deepnote_index_column": 6
                },
                {
                  "ID": 28176,
                  "Ticket URL": "https://app.intercom.com/a/apps/ijd0po3e/inbox/inbox/conversation/28176",
                  "Ticket ID": 3069,
                  "Ticket title": "Question",
                  "Ticket description": "When a customer asks a general question",
                  "Ticket status": "Closed",
                  "Ticket state": "in_progress",
                  "Ticket category": "Customer",
                  "Shared with customer": "True",
                  "Ticket type ID": 7,
                  "Ticket type name": "Question",
                  "Created from": "converted_to_ticket",
                  "Created at": "2023-11-06 06:07:46",
                  "Last updated at": "2023-11-06 17:38:19",
                  "Last resolved at": "NaT",
                  "Time Zone": "Dublin",
                  "Companies (ID)": "0c82a0ef-36d6-4f5b-9ed9-8ed5c0869772",
                  "Companies (name)": "Test",
                  "Company tags": "None",
                  "Email": "soloyt040@gmail.com",
                  "Location": "Mumbai, India",
                  "Name": "Solo Yt",
                  "Type": "User",
                  "Participated (ID)": "18878ea2-ac64-40df-a8fd-d7bd7f98798c",
                  "Participated (name)": "Solo Yt",
                  "Participated (email)": "soloyt040@gmail.com",
                  "People tags": "None",
                  "User ID": "18878ea2-ac64-40df-a8fd-d7bd7f98798c",
                  "Assigned to (ID)": 5729911,
                  "Assigned to (name)": "Dave",
                  "Team assigned to (ID)": "nan",
                  "Team assigned to (name)": "None",
                  "Created by (ID)": 5729911,
                  "Created by (name)": "Dave",
                  "Resolved by (ID)": "nan",
                  "Resolved by (name)": "None",
                  "Teammates participated": "Dave",
                  "Time to resolve (seconds)": "nan",
                  "Time in submitted (seconds)": "nan",
                  "Time in progress (seconds)": "nan",
                  "Time in waiting on customer (seconds)": "None",
                  "_deepnote_index_column": 7
                },
                {
                  "ID": 27878,
                  "Ticket URL": "https://app.intercom.com/a/apps/ijd0po3e/inbox/inbox/conversation/27878",
                  "Ticket ID": 2860,
                  "Ticket title": "Investigation",
                  "Ticket description": "Graph issue",
                  "Ticket status": "Closed",
                  "Ticket state": "waiting_on_customer",
                  "Ticket category": "Customer",
                  "Shared with customer": "True",
                  "Ticket type ID": 3,
                  "Ticket type name": "Investigation",
                  "Created from": "converted_to_ticket",
                  "Created at": "2023-10-06 01:09:01",
                  "Last updated at": "2023-10-17 15:07:53",
                  "Last resolved at": "NaT",
                  "Time Zone": "Dublin",
                  "Companies (ID)": "3e79b326-0cf6-4bff-8b41-99d9feb9b992, d98aac0a-5284-4909-8c3e-f580aa9e3e08, dc3cff5d-b0ea-4c78-acb7-39379e0b315e, 79b529c5-50d9-467f-8f9a-ad1e3f52b030, e75db3f1-5230-4872-a752-fda52102f3f5",
                  "Companies (name)": "Edison Insights, Simon Sotak, Filip Stollar, KarmaPulse, AleKarma",
                  "Company tags": "None",
                  "Email": "alecuevas@karmapulse.com",
                  "Location": "Mexico City, Mexico",
                  "Name": "Alejandra Cuevas",
                  "Type": "User",
                  "Participated (ID)": "f8f6ce11-213b-47a0-a393-1513d9834582",
                  "Participated (name)": "Alejandra  Cuevas",
                  "Participated (email)": "alecuevas@karmapulse.com",
                  "People tags": "None",
                  "User ID": "f8f6ce11-213b-47a0-a393-1513d9834582",
                  "Assigned to (ID)": 5729911,
                  "Assigned to (name)": "Dave",
                  "Team assigned to (ID)": "nan",
                  "Team assigned to (name)": "None",
                  "Created by (ID)": 5729911,
                  "Created by (name)": "Dave",
                  "Resolved by (ID)": "nan",
                  "Resolved by (name)": "None",
                  "Teammates participated": "Dave",
                  "Time to resolve (seconds)": "nan",
                  "Time in submitted (seconds)": "nan",
                  "Time in progress (seconds)": "nan",
                  "Time in waiting on customer (seconds)": "None",
                  "_deepnote_index_column": 8
                },
                {
                  "ID": 28001,
                  "Ticket URL": "https://app.intercom.com/a/apps/ijd0po3e/inbox/inbox/conversation/28001",
                  "Ticket ID": 2941,
                  "Ticket title": "Sales Query",
                  "Ticket description": "Customer is inquiring about sales and provided a phone number of +13047709681. Teammate Dave asked how they can help the customer.",
                  "Ticket status": "Closed",
                  "Ticket state": "in_progress",
                  "Ticket category": "Customer",
                  "Shared with customer": "True",
                  "Ticket type ID": 7,
                  "Ticket type name": "Question",
                  "Created from": "converted_to_ticket",
                  "Created at": "2023-10-17 21:43:54",
                  "Last updated at": "2023-10-18 15:12:34",
                  "Last resolved at": "NaT",
                  "Time Zone": "Dublin",
                  "Companies (ID)": "None",
                  "Companies (name)": "None",
                  "Company tags": "None",
                  "Email": "jessie.grace@marketreachpro.com",
                  "Location": "Tiruchirappalli, India",
                  "Name": "Jessie Grsce",
                  "Type": "Lead",
                  "Participated (ID)": "b0a998a7-e179-48c5-aad6-8f32a2880079, 2d46a300-4bd3-4619-987f-1cee45844058, 04bcb117-6857-4560-a947-cdf42c02316f",
                  "Participated (name)": "Jessie Grsce, David, ",
                  "Participated (email)": "jessie.grace@marketreachpro.com, david@deepnote.com, tom.gibson@globaltechusers.com",
                  "People tags": "None",
                  "User ID": "b0a998a7-e179-48c5-aad6-8f32a2880079",
                  "Assigned to (ID)": 5729911,
                  "Assigned to (name)": "Dave",
                  "Team assigned to (ID)": "nan",
                  "Team assigned to (name)": "None",
                  "Created by (ID)": 5729911,
                  "Created by (name)": "Dave",
                  "Resolved by (ID)": "nan",
                  "Resolved by (name)": "None",
                  "Teammates participated": "Dave",
                  "Time to resolve (seconds)": "nan",
                  "Time in submitted (seconds)": "nan",
                  "Time in progress (seconds)": "nan",
                  "Time in waiting on customer (seconds)": "None",
                  "_deepnote_index_column": 9
                }
              ]
            },
            "text/plain": "           ID                                         Ticket URL  Ticket ID  \\\n0     27902.0  https://app.intercom.com/a/apps/ijd0po3e/inbox...     2874.0   \n1     28118.0  https://app.intercom.com/a/apps/ijd0po3e/inbox...     3016.0   \n2     28230.0  https://app.intercom.com/a/apps/ijd0po3e/inbox...     3117.0   \n3     28385.0  https://app.intercom.com/a/apps/ijd0po3e/inbox...     3205.0   \n4     27951.0  https://app.intercom.com/a/apps/ijd0po3e/inbox...     2907.0   \n...       ...                                                ...        ...   \n1157  33783.0  https://app.intercom.com/a/apps/ijd0po3e/inbox...     3944.0   \n1158  33817.0  https://app.intercom.com/a/apps/ijd0po3e/inbox...     3993.0   \n1159  33759.0  https://app.intercom.com/a/apps/ijd0po3e/inbox...     3959.0   \n1160      NaN                                               None        NaN   \n1161      NaN                                               None        NaN   \n\n                                           Ticket title  \\\n0                                         Investigation   \n1                                   Notebook Move Error   \n2              Machine boot taking more than 15 minutes   \n3                                     Education Request   \n4                                         Investigation   \n...                                                 ...   \n1157   Education Account Upgrade Request for Marcus Lei   \n1158  Deepnote Loading and Kernel Restart Issue Inve...   \n1159          Unable to Sign In to Juwon_gist Workspace   \n1160                                               None   \n1161                                               None   \n\n                                     Ticket description Ticket status  \\\n0                                           Swap Emails        Closed   \n1     Something went wrong when moving this notebook...        Closed   \n2     Customer reported that their machine is taking...        Closed   \n3                                                  None        Closed   \n4     When a customer has an issue we need to invest...        Closed   \n...                                                 ...           ...   \n1157  Marcus Lei, a student at the University of Cal...        Closed   \n1158  Customer experiencing long page loading times ...        Closed   \n1159  윤주원 is unable to sign in to the Juwon_gist wor...        Closed   \n1160                                               None          None   \n1161                                               None          None   \n\n             Ticket state Ticket category Shared with customer  \\\n0                resolved        Customer                 True   \n1     waiting_on_customer        Customer                 True   \n2                resolved        Customer                 True   \n3                resolved        Customer                 True   \n4                resolved        Customer                 True   \n...                   ...             ...                  ...   \n1157             resolved        Customer                 True   \n1158             resolved        Customer                 True   \n1159             resolved        Customer                 True   \n1160                 None            None                  NaN   \n1161                 None            None                  NaN   \n\n      Ticket type ID  ... Team assigned to (name) Created by (ID)  \\\n0                3.0  ...                    None       5729911.0   \n1                3.0  ...                    None       5729911.0   \n2                3.0  ...                    None       5729911.0   \n3               11.0  ...                    None       5729911.0   \n4                3.0  ...                    None       5729911.0   \n...              ...  ...                     ...             ...   \n1157            11.0  ...                    None       5729911.0   \n1158             3.0  ...                    None       5729911.0   \n1159             3.0  ...                    None       5729911.0   \n1160             NaN  ...                    None             NaN   \n1161             NaN  ...                    None             NaN   \n\n     Created by (name) Resolved by (ID) Resolved by (name)  \\\n0                 Dave        5729911.0               Dave   \n1                 Dave              NaN               None   \n2                 Dave        5729911.0               Dave   \n3                 Dave        5729911.0               Dave   \n4                 Dave        5729911.0               Dave   \n...                ...              ...                ...   \n1157              Dave        5729911.0               Dave   \n1158              Dave        5729911.0               Dave   \n1159              Dave        5729911.0               Dave   \n1160              None              NaN               None   \n1161              None              NaN               None   \n\n     Teammates participated Time to resolve (seconds)  \\\n0                      Dave              96675.000000   \n1                      Dave                       NaN   \n2                      Dave             166357.552814   \n3                      Dave                230.950360   \n4                      Dave              77696.000000   \n...                     ...                       ...   \n1157                   Dave                  3.807339   \n1158                   Dave              50522.704331   \n1159                   Dave              22987.121224   \n1160                   Dave                       NaN   \n1161                   Dave                       NaN   \n\n     Time in submitted (seconds) Time in progress (seconds)  \\\n0                    1691.000000                        NaN   \n1                            NaN                        NaN   \n2                       6.806569                        NaN   \n3                      56.268023                  40.515328   \n4                   77696.000000                        NaN   \n...                          ...                        ...   \n1157                    3.807339                        NaN   \n1158                50522.704331                        NaN   \n1159                    4.102125                        NaN   \n1160                         NaN                        NaN   \n1161                         NaN                        NaN   \n\n     Time in waiting on customer (seconds)  \n0                                  94984.0  \n1                                     None  \n2                            166350.746245  \n3                               134.167009  \n4                                     None  \n...                                    ...  \n1157                                  None  \n1158                                  None  \n1159                          22983.019099  \n1160                                  None  \n1161                                  None  \n\n[1162 rows x 41 columns]",
            "text/html": "<div>\n<style scoped>\n    .dataframe tbody tr th:only-of-type {\n        vertical-align: middle;\n    }\n\n    .dataframe tbody tr th {\n        vertical-align: top;\n    }\n\n    .dataframe thead th {\n        text-align: right;\n    }\n</style>\n<table border=\"1\" class=\"dataframe\">\n  <thead>\n    <tr style=\"text-align: right;\">\n      <th></th>\n      <th>ID</th>\n      <th>Ticket URL</th>\n      <th>Ticket ID</th>\n      <th>Ticket title</th>\n      <th>Ticket description</th>\n      <th>Ticket status</th>\n      <th>Ticket state</th>\n      <th>Ticket category</th>\n      <th>Shared with customer</th>\n      <th>Ticket type ID</th>\n      <th>...</th>\n      <th>Team assigned to (name)</th>\n      <th>Created by (ID)</th>\n      <th>Created by (name)</th>\n      <th>Resolved by (ID)</th>\n      <th>Resolved by (name)</th>\n      <th>Teammates participated</th>\n      <th>Time to resolve (seconds)</th>\n      <th>Time in submitted (seconds)</th>\n      <th>Time in progress (seconds)</th>\n      <th>Time in waiting on customer (seconds)</th>\n    </tr>\n  </thead>\n  <tbody>\n    <tr>\n      <th>0</th>\n      <td>27902.0</td>\n      <td>https://app.intercom.com/a/apps/ijd0po3e/inbox...</td>\n      <td>2874.0</td>\n      <td>Investigation</td>\n      <td>Swap Emails</td>\n      <td>Closed</td>\n      <td>resolved</td>\n      <td>Customer</td>\n      <td>True</td>\n      <td>3.0</td>\n      <td>...</td>\n      <td>None</td>\n      <td>5729911.0</td>\n      <td>Dave</td>\n      <td>5729911.0</td>\n      <td>Dave</td>\n      <td>Dave</td>\n      <td>96675.000000</td>\n      <td>1691.000000</td>\n      <td>NaN</td>\n      <td>94984.0</td>\n    </tr>\n    <tr>\n      <th>1</th>\n      <td>28118.0</td>\n      <td>https://app.intercom.com/a/apps/ijd0po3e/inbox...</td>\n      <td>3016.0</td>\n      <td>Notebook Move Error</td>\n      <td>Something went wrong when moving this notebook...</td>\n      <td>Closed</td>\n      <td>waiting_on_customer</td>\n      <td>Customer</td>\n      <td>True</td>\n      <td>3.0</td>\n      <td>...</td>\n      <td>None</td>\n      <td>5729911.0</td>\n      <td>Dave</td>\n      <td>NaN</td>\n      <td>None</td>\n      <td>Dave</td>\n      <td>NaN</td>\n      <td>NaN</td>\n      <td>NaN</td>\n      <td>None</td>\n    </tr>\n    <tr>\n      <th>2</th>\n      <td>28230.0</td>\n      <td>https://app.intercom.com/a/apps/ijd0po3e/inbox...</td>\n      <td>3117.0</td>\n      <td>Machine boot taking more than 15 minutes</td>\n      <td>Customer reported that their machine is taking...</td>\n      <td>Closed</td>\n      <td>resolved</td>\n      <td>Customer</td>\n      <td>True</td>\n      <td>3.0</td>\n      <td>...</td>\n      <td>None</td>\n      <td>5729911.0</td>\n      <td>Dave</td>\n      <td>5729911.0</td>\n      <td>Dave</td>\n      <td>Dave</td>\n      <td>166357.552814</td>\n      <td>6.806569</td>\n      <td>NaN</td>\n      <td>166350.746245</td>\n    </tr>\n    <tr>\n      <th>3</th>\n      <td>28385.0</td>\n      <td>https://app.intercom.com/a/apps/ijd0po3e/inbox...</td>\n      <td>3205.0</td>\n      <td>Education Request</td>\n      <td>None</td>\n      <td>Closed</td>\n      <td>resolved</td>\n      <td>Customer</td>\n      <td>True</td>\n      <td>11.0</td>\n      <td>...</td>\n      <td>None</td>\n      <td>5729911.0</td>\n      <td>Dave</td>\n      <td>5729911.0</td>\n      <td>Dave</td>\n      <td>Dave</td>\n      <td>230.950360</td>\n      <td>56.268023</td>\n      <td>40.515328</td>\n      <td>134.167009</td>\n    </tr>\n    <tr>\n      <th>4</th>\n      <td>27951.0</td>\n      <td>https://app.intercom.com/a/apps/ijd0po3e/inbox...</td>\n      <td>2907.0</td>\n      <td>Investigation</td>\n      <td>When a customer has an issue we need to invest...</td>\n      <td>Closed</td>\n      <td>resolved</td>\n      <td>Customer</td>\n      <td>True</td>\n      <td>3.0</td>\n      <td>...</td>\n      <td>None</td>\n      <td>5729911.0</td>\n      <td>Dave</td>\n      <td>5729911.0</td>\n      <td>Dave</td>\n      <td>Dave</td>\n      <td>77696.000000</td>\n      <td>77696.000000</td>\n      <td>NaN</td>\n      <td>None</td>\n    </tr>\n    <tr>\n      <th>...</th>\n      <td>...</td>\n      <td>...</td>\n      <td>...</td>\n      <td>...</td>\n      <td>...</td>\n      <td>...</td>\n      <td>...</td>\n      <td>...</td>\n      <td>...</td>\n      <td>...</td>\n      <td>...</td>\n      <td>...</td>\n      <td>...</td>\n      <td>...</td>\n      <td>...</td>\n      <td>...</td>\n      <td>...</td>\n      <td>...</td>\n      <td>...</td>\n      <td>...</td>\n      <td>...</td>\n    </tr>\n    <tr>\n      <th>1157</th>\n      <td>33783.0</td>\n      <td>https://app.intercom.com/a/apps/ijd0po3e/inbox...</td>\n      <td>3944.0</td>\n      <td>Education Account Upgrade Request for Marcus Lei</td>\n      <td>Marcus Lei, a student at the University of Cal...</td>\n      <td>Closed</td>\n      <td>resolved</td>\n      <td>Customer</td>\n      <td>True</td>\n      <td>11.0</td>\n      <td>...</td>\n      <td>None</td>\n      <td>5729911.0</td>\n      <td>Dave</td>\n      <td>5729911.0</td>\n      <td>Dave</td>\n      <td>Dave</td>\n      <td>3.807339</td>\n      <td>3.807339</td>\n      <td>NaN</td>\n      <td>None</td>\n    </tr>\n    <tr>\n      <th>1158</th>\n      <td>33817.0</td>\n      <td>https://app.intercom.com/a/apps/ijd0po3e/inbox...</td>\n      <td>3993.0</td>\n      <td>Deepnote Loading and Kernel Restart Issue Inve...</td>\n      <td>Customer experiencing long page loading times ...</td>\n      <td>Closed</td>\n      <td>resolved</td>\n      <td>Customer</td>\n      <td>True</td>\n      <td>3.0</td>\n      <td>...</td>\n      <td>None</td>\n      <td>5729911.0</td>\n      <td>Dave</td>\n      <td>5729911.0</td>\n      <td>Dave</td>\n      <td>Dave</td>\n      <td>50522.704331</td>\n      <td>50522.704331</td>\n      <td>NaN</td>\n      <td>None</td>\n    </tr>\n    <tr>\n      <th>1159</th>\n      <td>33759.0</td>\n      <td>https://app.intercom.com/a/apps/ijd0po3e/inbox...</td>\n      <td>3959.0</td>\n      <td>Unable to Sign In to Juwon_gist Workspace</td>\n      <td>윤주원 is unable to sign in to the Juwon_gist wor...</td>\n      <td>Closed</td>\n      <td>resolved</td>\n      <td>Customer</td>\n      <td>True</td>\n      <td>3.0</td>\n      <td>...</td>\n      <td>None</td>\n      <td>5729911.0</td>\n      <td>Dave</td>\n      <td>5729911.0</td>\n      <td>Dave</td>\n      <td>Dave</td>\n      <td>22987.121224</td>\n      <td>4.102125</td>\n      <td>NaN</td>\n      <td>22983.019099</td>\n    </tr>\n    <tr>\n      <th>1160</th>\n      <td>NaN</td>\n      <td>None</td>\n      <td>NaN</td>\n      <td>None</td>\n      <td>None</td>\n      <td>None</td>\n      <td>None</td>\n      <td>None</td>\n      <td>NaN</td>\n      <td>NaN</td>\n      <td>...</td>\n      <td>None</td>\n      <td>NaN</td>\n      <td>None</td>\n      <td>NaN</td>\n      <td>None</td>\n      <td>Dave</td>\n      <td>NaN</td>\n      <td>NaN</td>\n      <td>NaN</td>\n      <td>None</td>\n    </tr>\n    <tr>\n      <th>1161</th>\n      <td>NaN</td>\n      <td>None</td>\n      <td>NaN</td>\n      <td>None</td>\n      <td>None</td>\n      <td>None</td>\n      <td>None</td>\n      <td>None</td>\n      <td>NaN</td>\n      <td>NaN</td>\n      <td>...</td>\n      <td>None</td>\n      <td>NaN</td>\n      <td>None</td>\n      <td>NaN</td>\n      <td>None</td>\n      <td>Dave</td>\n      <td>NaN</td>\n      <td>NaN</td>\n      <td>NaN</td>\n      <td>None</td>\n    </tr>\n  </tbody>\n</table>\n<p>1162 rows × 41 columns</p>\n</div>"
          },
          "metadata": {}
        }
      ],
      "outputs_reference": null,
      "execution_count": 1,
      "block_group": "3be9e9e1647e40a9ae8699e799e514b5",
      "content_dependencies": null
    },
    {
      "cell_type": "markdown",
      "source": "<a style='text-decoration:none;line-height:16px;display:flex;color:#5B5B62;padding:10px;justify-content:end;' href='https://deepnote.com?utm_source=created-in-deepnote-cell&projectId=d73dcddb-7cbc-4200-8282-4421e85df766' target=\"_blank\">\n<img alt='Created in deepnote.com' style='display:inline;max-height:16px;margin:0px;margin-right:7.5px;' src='data:image/svg+xml;base64,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' > </img>\nCreated in <span style='font-weight:600;margin-left:4px;'>Deepnote</span></a>",
      "metadata": {
        "created_in_deepnote_cell": true,
        "deepnote_cell_type": "markdown"
      }
    }
  ],
  "nbformat": 4,
  "nbformat_minor": 0,
  "metadata": {
    "deepnote_notebook_id": "420bccccc2a348f2afedf8c67ea24d32",
    "deepnote_execution_queue": []
  }
}